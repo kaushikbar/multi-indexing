{
 "cells": [
  {
   "cell_type": "markdown",
   "metadata": {},
   "source": [
    "# Data organization"
   ]
  },
  {
   "cell_type": "markdown",
   "metadata": {},
   "source": [
    "## References"
   ]
  },
  {
   "cell_type": "markdown",
   "metadata": {
    "ExecuteTime": {
     "end_time": "2018-08-25T09:09:30.833258Z",
     "start_time": "2018-08-25T09:09:30.824800Z"
    }
   },
   "source": [
    "https://docs.python.org/3/library/codecs.html#standard-encodings\n",
    "\n",
    "https://developers.google.com/edu/python/regular-expressions"
   ]
  },
  {
   "cell_type": "markdown",
   "metadata": {},
   "source": [
    "## Imports"
   ]
  },
  {
   "cell_type": "code",
   "execution_count": 1,
   "metadata": {
    "ExecuteTime": {
     "end_time": "2018-08-29T11:27:13.792223Z",
     "start_time": "2018-08-29T11:27:13.058021Z"
    }
   },
   "outputs": [],
   "source": [
    "#import warnings\n",
    "#warnings.filterwarnings(\"ignore\")\n",
    "\n",
    "import os\n",
    "import sys\n",
    "\n",
    "import re\n",
    "\n",
    "import numpy as np\n",
    "import pandas as pd\n",
    "\n",
    "import matplotlib.pyplot as plt\n",
    "%matplotlib inline"
   ]
  },
  {
   "cell_type": "markdown",
   "metadata": {},
   "source": [
    "## UDFs"
   ]
  },
  {
   "cell_type": "markdown",
   "metadata": {},
   "source": [
    "### Generic utilities"
   ]
  },
  {
   "cell_type": "code",
   "execution_count": 2,
   "metadata": {
    "ExecuteTime": {
     "end_time": "2018-08-29T11:27:13.807843Z",
     "start_time": "2018-08-29T11:27:13.792223Z"
    }
   },
   "outputs": [],
   "source": [
    "# Map a series according to given dictionary\n",
    "def do_series_mapping(series, mapping_dict):\n",
    "    \n",
    "    series = series.map(mapping_dict)\n",
    "    assert(series.isnull().sum() == 0)\n",
    "    \n",
    "    return series"
   ]
  },
  {
   "cell_type": "code",
   "execution_count": 3,
   "metadata": {
    "ExecuteTime": {
     "end_time": "2018-08-29T11:27:13.979678Z",
     "start_time": "2018-08-29T11:27:13.807843Z"
    }
   },
   "outputs": [],
   "source": [
    "# Read a series as the desired dtype\n",
    "def read_series_astype(series, dtype):\n",
    "    \n",
    "    if dtype == 'object' or dtype == np.str:\n",
    "        # Example: '5,989E+12'\n",
    "        series = series.astype(np.str)\n",
    "        series = pd.Series([val if len(re.findall(r'^\\d[\\,\\d]\\d*[Ee]\\+\\d+$', val)) is not 1\n",
    "                            else int(float(val.replace(',', '.')))\n",
    "                            for val in series], index=series.index)\n",
    "        series = series.astype(dtype)\n",
    "    else:\n",
    "        try:\n",
    "            series = series.astype(dtype)\n",
    "        except:\n",
    "            print(\"Handling exception in read_series_astype...\\nunique values:\", np.unique(series), \n",
    "                 \"\\ndtype:\", dtype, \"\\n\")\n",
    "            # Example: '9,5'\n",
    "            series = pd.Series([val.replace(',', '.') for val in series], \n",
    "                               index=series.index).astype(dtype)\n",
    "            \n",
    "    return series"
   ]
  },
  {
   "cell_type": "code",
   "execution_count": 4,
   "metadata": {
    "ExecuteTime": {
     "end_time": "2018-08-29T11:27:14.163228Z",
     "start_time": "2018-08-29T11:27:13.979678Z"
    }
   },
   "outputs": [],
   "source": [
    "# Calculate the size of a dictionary in GB\n",
    "def calc_dict_size(my_dict):\n",
    "    \n",
    "    size = sys.getsizeof(my_dict)\n",
    "    size += sum(map(sys.getsizeof, my_dict.values())) + sum(map(sys.getsizeof, my_dict.keys()))\n",
    "    print(\"Size is\", size/(10**9), \"GB!\")"
   ]
  },
  {
   "cell_type": "code",
   "execution_count": 5,
   "metadata": {
    "ExecuteTime": {
     "end_time": "2018-08-29T11:27:14.319283Z",
     "start_time": "2018-08-29T11:27:14.163228Z"
    }
   },
   "outputs": [],
   "source": [
    "# Handle NaN by filling in with given pattern\n",
    "def handle_nan_by_filling_in(df, f_name, fill_with):   \n",
    "    \n",
    "    num_nan = df.isnull().sum()\n",
    "    try:   \n",
    "        # Ensure no NaNs\n",
    "        assert(num_nan.sum() == 0)\n",
    "    except:\n",
    "        print(\"Handling exception in\", f_name, \"...num_nan:\\n\", num_nan, \"\\n\")\n",
    "        # Fill them with 'Unknown'\n",
    "        df.fillna(fill_with, inplace=True)\n",
    "    \n",
    "    return df"
   ]
  },
  {
   "cell_type": "markdown",
   "metadata": {},
   "source": [
    "### Utilities for reading an individual file"
   ]
  },
  {
   "cell_type": "code",
   "execution_count": 6,
   "metadata": {
    "ExecuteTime": {
     "end_time": "2018-08-29T11:27:14.459866Z",
     "start_time": "2018-08-29T11:27:14.319283Z"
    }
   },
   "outputs": [],
   "source": [
    "# Serialize the dataframe into date-wise observations\n",
    "def serialize_record(df, dates, record_type, DEBUG=False):\n",
    "    \n",
    "    # If all the columns in any row of this file have NaNs, drop it\n",
    "    df.dropna(how='all', inplace=True) \n",
    "    \n",
    "    # Add more meaningful columns\n",
    "    quantity_col_name = 'Quantity_' + record_type\n",
    "    df['Date'] = None    \n",
    "    df[quantity_col_name] = None\n",
    "    \n",
    "    # Initialize\n",
    "    first_valid_date_idx = dates.isnull().sum()\n",
    "    chunk_to_append = df.copy()\n",
    "\n",
    "    # Iterate through the dates and serialize accordingly\n",
    "    for idx, date in enumerate(dates):\n",
    "        if not pd.isnull(date):\n",
    "            # Assign the right date and quantity to the chunk_to_append\n",
    "            chunk_to_append.Date = date\n",
    "            chunk_to_append[quantity_col_name] = df.iloc[:, idx]\n",
    "\n",
    "            # Now update the original df\n",
    "            if idx == first_valid_date_idx:\n",
    "                df = chunk_to_append.copy()\n",
    "            else:           \n",
    "                df = df.append(chunk_to_append, ignore_index=True)\n",
    "\n",
    "    # Esnure all that we did above is fine\n",
    "    assert(len(chunk_to_append) * (len(dates) - first_valid_date_idx) == len(df))\n",
    "    \n",
    "    # Date-wise columns which originally contained the quantities are no more required - dop them\n",
    "    to_drop = df.columns[range(first_valid_date_idx, len(dates))]\n",
    "    df.drop(to_drop, axis=1, inplace=True)\n",
    "    \n",
    "    # Now drop rows where no transaction took place\n",
    "    df.dropna(inplace=True)    \n",
    "\n",
    "    # Finally, read the Date column as time\n",
    "    df.Date = pd.to_datetime(df.Date, infer_datetime_format=True)\n",
    "    \n",
    "    if DEBUG:\n",
    "        print(\"Serialized shape:\", df.shape)\n",
    "    \n",
    "    return df, quantity_col_name"
   ]
  },
  {
   "cell_type": "code",
   "execution_count": 7,
   "metadata": {
    "ExecuteTime": {
     "end_time": "2018-08-29T11:27:14.600450Z",
     "start_time": "2018-08-29T11:27:14.459866Z"
    }
   },
   "outputs": [],
   "source": [
    "# Read an individual file containing transactional data (sell_in / sell_out / opening_stock)\n",
    "def read_transactional_record(record_path, record_type, DEBUG=False, multi_index=True):  \n",
    "    \n",
    "    # The 1st row contains the dates which this file has data for\n",
    "    dates = pd.read_csv(record_path, low_memory=False, sep=';', header=None, nrows=1).iloc[0, :].T    \n",
    "  \n",
    "    # Now read the full data in this file, but after skipping the 1st row\n",
    "    df = pd.read_csv(record_path, low_memory=False, sep=';', skiprows=1)\n",
    "    \n",
    "    if DEBUG:\n",
    "        print(\"Dates:\", dates)\n",
    "        print(\"Original shape:\", df.shape)\n",
    "    \n",
    "    # Serialize the dataframe into date-wise observations\n",
    "    df, quantity_col_name = serialize_record(df, dates, record_type, DEBUG)\n",
    "    \n",
    "    # Have column names in English\n",
    "    df.columns = ['NAV', 'Retailer', 'SKU', 'Barcode', 'Date', quantity_col_name]\n",
    "    \n",
    "    # Quantity for sell_out is stored as a negative number - let's reverse that\n",
    "    if record_type is 'sell_out':\n",
    "        df[quantity_col_name] = df[quantity_col_name] * -1\n",
    "    \n",
    "    # NAV and Barcode are essentially identifiers for Retailer and SKU respectively - drop them\n",
    "    df.drop(['NAV', 'Barcode'], axis=1, inplace=True) # TBD: Check if this is ok\n",
    "    \n",
    "    # Quantity should be read as float64\n",
    "    df[quantity_col_name] = read_series_astype(df[quantity_col_name], 'float64')\n",
    "    \n",
    "    # Now, read the object or string columns as category, which is more efficient\n",
    "    cat_cols = ['Retailer', 'SKU']\n",
    "    for col in cat_cols:\n",
    "        read_series_astype(df[col], 'category') \n",
    "    \n",
    "    # Handle NaNs by filling in with 'Unknown'\n",
    "    df = handle_nan_by_filling_in(df, str(read_transactional_record), 'Unknown')\n",
    "\n",
    "    # Finally, multi-index it by Retailer, SKU and Date\n",
    "    if multi_index:\n",
    "        df.set_index(['Retailer', 'SKU', 'Date'], inplace=True)\n",
    "        df.sort_index(inplace=True)\n",
    "\n",
    "    if DEBUG:\n",
    "        print(\"Final shape:\", df.shape)\n",
    "        print(df.dtypes)\n",
    "        print(df.head())\n",
    "    \n",
    "    return df, quantity_col_name"
   ]
  },
  {
   "cell_type": "code",
   "execution_count": 8,
   "metadata": {
    "ExecuteTime": {
     "end_time": "2018-08-29T11:27:14.741142Z",
     "start_time": "2018-08-29T11:27:14.600450Z"
    }
   },
   "outputs": [],
   "source": [
    "# Read an individual file containing retailer data\n",
    "def read_retailer_record(record_path, record_type, DEBUG=False):      \n",
    "\n",
    "    # Read the full data in this file\n",
    "    df = pd.read_csv(record_path, low_memory=False, sep=';')\n",
    "\n",
    "    # Have column names in English\n",
    "    df.columns = ['NAV', 'Retailer', 'Retailer_name', 'Zipcode', 'City', 'Address', 'Active', 'County']\n",
    "    \n",
    "    # NAV and Retailer_name are essentially identifiers for Retailer - drop them\n",
    "    df.drop(['NAV', 'Retailer_name'], axis=1, inplace=True) # TBD: Check if this is ok\n",
    "    \n",
    "    # Zipcode should be read as string, and NOT as integer\n",
    "    df.Zipcode = read_series_astype(df.Zipcode, np.str)\n",
    "    \n",
    "    # Active should be read as bool\n",
    "    df.Active = read_series_astype(df.Active, 'bool')\n",
    "    \n",
    "    # Now, read the object or string columns as category, which is more efficient\n",
    "    cat_cols = ['Retailer', 'Zipcode', 'City', 'Address', 'County']\n",
    "    for col in cat_cols:\n",
    "        read_series_astype(df[col], 'category')\n",
    "    \n",
    "    # Handle NaNs by filling in with 'Unknown'\n",
    "    df = handle_nan_by_filling_in(df, str(read_retailer_record), 'Unknown')\n",
    "\n",
    "    # Finally, index it by Retailer\n",
    "    df.set_index('Retailer', inplace=True)\n",
    "    \n",
    "    if DEBUG:\n",
    "        print(\"Final shape:\", df.shape)\n",
    "        print(df.dtypes)\n",
    "        print(df.head())\n",
    "    \n",
    "    return df"
   ]
  },
  {
   "cell_type": "code",
   "execution_count": 9,
   "metadata": {
    "ExecuteTime": {
     "end_time": "2018-08-29T11:27:14.959947Z",
     "start_time": "2018-08-29T11:27:14.741142Z"
    }
   },
   "outputs": [],
   "source": [
    "# Translate columns in SKU record according to mapping specified in row_1\n",
    "def translate_sku_record(df, row_1):\n",
    "    \n",
    "    # TBD: Parse row_1 to extrct mappings automatically and then translate them\n",
    "    product_type_dict = {'1 - Cigaretta': 'Cigarette',\n",
    "                         '10 - Elektromos cigaretta folyadék': 'Liquid',\n",
    "                         '2 - Szivar': 'Cigar',\n",
    "                         '3 - Szivarka': 'Cigarillo',\n",
    "                         '4 - Finomra vágott fogyasztási dohány (cigarettadohány)': 'Tobacco',      \n",
    "                         '5 - Egyéb fogyasztási dohány (pipadohány)': 'Pipe tobacco',      \n",
    "                         '6 - Dohányt tartalmazó kiegészítő': 'OTP accessories',      \n",
    "                         '7 - Cigarettapapír (lap)': 'Paper',      \n",
    "                         '8 - Cigarettahüvely': 'Tube',      \n",
    "                         '9 - Füstszűrő': 'Filter'}       \n",
    "    df.Product = do_series_mapping(df.Product, product_type_dict)\n",
    "    \n",
    "    basic_quantitive_unit_dict = {'g': 'gm',\n",
    "                                  'ml': 'ml',\n",
    "                                  'szál': 'stick',\n",
    "                                  'db': 'piece'}   \n",
    "    df.Unit_basic = do_series_mapping(df.Unit_basic, basic_quantitive_unit_dict)\n",
    "    \n",
    "    return df"
   ]
  },
  {
   "cell_type": "code",
   "execution_count": 10,
   "metadata": {
    "ExecuteTime": {
     "end_time": "2018-08-29T11:27:15.116238Z",
     "start_time": "2018-08-29T11:27:14.959947Z"
    }
   },
   "outputs": [],
   "source": [
    "# Read an individual file containing SKU data\n",
    "def read_sku_record(record_path, record_type, DEBUG=False):  \n",
    "    \n",
    "    # The 1st row contains mappings for English translation for some of the columns\n",
    "    row_1 = pd.read_csv(record_path, sep=r'\\t', skiprows=1, encoding='iso8859_2', engine='python', \n",
    "                        header=None, nrows=1).iloc[0, :].T  \n",
    "   \n",
    "    # Read this file using tab separator and West European encoding, after skipping the 1st row\n",
    "    df = pd.read_csv(record_path, sep=r'\\t', skiprows=1, encoding='iso8859_2', engine='python')\n",
    "\n",
    "    # Have column names in English\n",
    "    df.columns = ['SKU', 'Barcode', 'Product', 'SKU_short_name', 'Short_name', 'Name', \n",
    "                  'Manufacturer', 'Brand', 'Unique',\n",
    "                  'TAR_mg', 'Nikotin_mg', 'CO_mg', 'Unit_quant', 'Unit_basic']\n",
    "    \n",
    "    # Barcode is essentially identifier for SKU and SKU_short_name is juxtaposition of two columns - drop them\n",
    "    df.drop(['Barcode', 'SKU_short_name'], axis=1, inplace=True) # TBD: Check if this is ok\n",
    "    \n",
    "    # TAR_mg should be read as float64\n",
    "    df.TAR_mg = read_series_astype(df.TAR_mg, 'float64')\n",
    "    \n",
    "    # Nikotin_mg should be read as float64\n",
    "    df.Nikotin_mg = read_series_astype(df.Nikotin_mg, 'float64')\n",
    "    \n",
    "    # CO_mg should be read as float64\n",
    "    df.CO_mg = read_series_astype(df.CO_mg, 'float64')\n",
    "    \n",
    "    # Unit_quant should be read as float64\n",
    "    df.Unit_quant = read_series_astype(df.Unit_quant, 'float64')\n",
    "    \n",
    "    # Translate columns according to mapping specified in the 1st row\n",
    "    df = translate_sku_record(df, row_1)\n",
    "    \n",
    "    # Now, read the object or string columns as category, which is more efficient\n",
    "    cat_cols = ['SKU', 'Product', 'Short_name', 'Name', 'Manufacturer', 'Brand', 'Unique', 'Unit_basic']\n",
    "    for col in cat_cols:\n",
    "        read_series_astype(df[col], 'category')\n",
    "     \n",
    "    # Handle NaNs by filling in with 'Unknown'\n",
    "    df = handle_nan_by_filling_in(df, str(read_sku_record), 'Unknown')\n",
    "\n",
    "    # Finally, index it by SKU\n",
    "    df.set_index('SKU', inplace=True)\n",
    "    \n",
    "    if DEBUG:\n",
    "        print(\"Final shape:\", df.shape)\n",
    "        print(df.dtypes)\n",
    "        print(df.head())\n",
    "    \n",
    "    return df"
   ]
  },
  {
   "cell_type": "code",
   "execution_count": 11,
   "metadata": {
    "ExecuteTime": {
     "end_time": "2018-08-29T11:27:15.256745Z",
     "start_time": "2018-08-29T11:27:15.116238Z"
    }
   },
   "outputs": [],
   "source": [
    "# Read an individual file\n",
    "def read_record(record_path, record_type, DEBUG=False):\n",
    "    \n",
    "    if record_type is 'retailer':\n",
    "        return read_retailer_record(record_path, record_type, DEBUG)\n",
    "    elif record_type is 'sku':\n",
    "        return read_sku_record(record_path, record_type, DEBUG)\n",
    "    else:\n",
    "        assert(record_type is 'sell_in' or record_type is 'sell_out' or record_type is 'opening_stock')\n",
    "        return read_transactional_record(record_path, record_type, DEBUG, multi_index=True)"
   ]
  },
  {
   "cell_type": "code",
   "execution_count": 12,
   "metadata": {
    "ExecuteTime": {
     "end_time": "2018-08-29T11:27:15.444202Z",
     "start_time": "2018-08-29T11:27:15.256745Z"
    }
   },
   "outputs": [],
   "source": [
    "# Merge dataframes for a specific record date into a single dataframe\n",
    "def merge_1day_records(left_df, opening_stock=None, sell_in=None, sell_out=None, retailer=None, sku=None, DEBUG=False):\n",
    "    \n",
    "    assert(left_df is not None)\n",
    "    \n",
    "    if opening_stock is not None:\n",
    "        left_df = left_df.merge(opening_stock, how='outer', \n",
    "                                left_index=True, right_index=True, \n",
    "                                copy=False)\n",
    "    if sell_in is not None:\n",
    "        left_df = left_df.merge(sell_in, how='outer', \n",
    "                                left_index=True, right_index=True, \n",
    "                                copy=False)\n",
    "    if sell_out is not None:\n",
    "        left_df = left_df.merge(sell_out, how='outer', \n",
    "                                left_index=True, right_index=True, \n",
    "                                copy=False)\n",
    "    \n",
    "    if retailer is not None:\n",
    "        left_df = left_df.merge(retailer, how='left', left_index=True, right_index=True, copy=False)\n",
    "    if sku is not None:\n",
    "        left_df = left_df.merge(sku, how='left', left_index=True, right_index=True, copy=False)\n",
    "    \n",
    "    # Handle NaNs by filling in with 0\n",
    "    left_df = handle_nan_by_filling_in(left_df, str(merge_1day_records), 0)\n",
    "    \n",
    "    if DEBUG:\n",
    "        print(\"Merged shape:\", left_df.shape)\n",
    "        print(left_df.dtypes)\n",
    "        print(left_df.head())\n",
    "        \n",
    "    return left_df"
   ]
  },
  {
   "cell_type": "markdown",
   "metadata": {},
   "source": [
    "### Utilities for reading multiple files"
   ]
  },
  {
   "cell_type": "code",
   "execution_count": 13,
   "metadata": {
    "ExecuteTime": {
     "end_time": "2018-08-29T11:27:15.616057Z",
     "start_time": "2018-08-29T11:27:15.444202Z"
    }
   },
   "outputs": [],
   "source": [
    "# Merge dataframes for different record dates into a single dataframe\n",
    "def merge_nday_records(left_df, right_df, DEBUG=False):\n",
    "    \n",
    "    assert(left_df is not None and right_df is not None)\n",
    "    \n",
    "    left_df = pd.concat([left_df, right_df], join='outer', copy=False)\n",
    "    \n",
    "    # Handle NaNs by filling in with 0\n",
    "    left_df = handle_nan_by_filling_in(left_df, str(merge_nday_records), 0)\n",
    "    \n",
    "    # Sort the index\n",
    "    left_df.sort_index(inplace=True)\n",
    "    \n",
    "    if DEBUG:\n",
    "        print(\"Merged shape:\", left_df.shape)\n",
    "        print(left_df.dtypes)\n",
    "        print(left_df.head())\n",
    "        \n",
    "    return left_df"
   ]
  },
  {
   "cell_type": "markdown",
   "metadata": {},
   "source": [
    "## Load the data"
   ]
  },
  {
   "cell_type": "markdown",
   "metadata": {},
   "source": [
    "### Read individual files"
   ]
  },
  {
   "cell_type": "markdown",
   "metadata": {},
   "source": [
    "#### Opening stock"
   ]
  },
  {
   "cell_type": "code",
   "execution_count": 14,
   "metadata": {
    "ExecuteTime": {
     "end_time": "2018-08-29T11:27:15.772283Z",
     "start_time": "2018-08-29T11:27:15.616057Z"
    }
   },
   "outputs": [],
   "source": [
    "record_path = \"data/Data Fresh/Description/KESZLET_20180709081746.csv\"\n",
    "record_type = 'opening_stock'"
   ]
  },
  {
   "cell_type": "code",
   "execution_count": 15,
   "metadata": {
    "ExecuteTime": {
     "end_time": "2018-08-29T11:27:34.544455Z",
     "start_time": "2018-08-29T11:27:15.772283Z"
    }
   },
   "outputs": [
    {
     "name": "stdout",
     "output_type": "stream",
     "text": [
      "Dates: 0            NaN\n",
      "1            NaN\n",
      "2            NaN\n",
      "3            NaN\n",
      "4     2018.06.29\n",
      "5     2018.06.30\n",
      "6     2018.07.01\n",
      "7     2018.07.02\n",
      "8     2018.07.03\n",
      "9     2018.07.04\n",
      "10    2018.07.05\n",
      "11    2018.07.06\n",
      "12    2018.07.07\n",
      "13    2018.07.08\n",
      "Name: 0, dtype: object\n",
      "Original shape: (298089, 14)\n",
      "Serialized shape: (2786116, 6)\n",
      "Final shape: (2786116, 1)\n",
      "Quantity_opening_stock    float64\n",
      "dtype: object\n",
      "                                 Quantity_opening_stock\n",
      "Retailer     SKU     Date                              \n",
      "HU0001/00009 A003505 2018-06-29                  1800.0\n",
      "                     2018-06-30                  1800.0\n",
      "                     2018-07-01                  1600.0\n",
      "                     2018-07-02                  1600.0\n",
      "                     2018-07-03                  1600.0\n"
     ]
    }
   ],
   "source": [
    "opening_stock, _ = read_record(record_path, record_type, DEBUG=True)"
   ]
  },
  {
   "cell_type": "markdown",
   "metadata": {},
   "source": [
    "#### Sell in"
   ]
  },
  {
   "cell_type": "code",
   "execution_count": 16,
   "metadata": {
    "ExecuteTime": {
     "end_time": "2018-08-29T11:27:34.560105Z",
     "start_time": "2018-08-29T11:27:34.544455Z"
    }
   },
   "outputs": [],
   "source": [
    "record_path = \"data/Data Fresh/Description/SELLIN_20180709082640.csv\"\n",
    "record_type = 'sell_in'"
   ]
  },
  {
   "cell_type": "code",
   "execution_count": 17,
   "metadata": {
    "ExecuteTime": {
     "end_time": "2018-08-29T11:27:38.913916Z",
     "start_time": "2018-08-29T11:27:34.560105Z"
    }
   },
   "outputs": [
    {
     "name": "stdout",
     "output_type": "stream",
     "text": [
      "Dates: 0            NaN\n",
      "1            NaN\n",
      "2            NaN\n",
      "3            NaN\n",
      "4     2018.06.29\n",
      "5     2018.06.30\n",
      "6     2018.07.01\n",
      "7     2018.07.02\n",
      "8     2018.07.03\n",
      "9     2018.07.04\n",
      "10    2018.07.05\n",
      "11    2018.07.06\n",
      "12    2018.07.07\n",
      "13    2018.07.08\n",
      "Name: 0, dtype: object\n",
      "Original shape: (101989, 14)\n",
      "Serialized shape: (139494, 6)\n",
      "Final shape: (139494, 1)\n",
      "Quantity_sell_in    float64\n",
      "dtype: object\n",
      "                                 Quantity_sell_in\n",
      "Retailer     SKU     Date                        \n",
      "HU0001/00009 A004873 2018-07-05             200.0\n",
      "             A005455 2018-07-05             750.0\n",
      "             A005466 2018-07-05             400.0\n",
      "             A005467 2018-07-05             200.0\n",
      "             A005469 2018-07-05             200.0\n"
     ]
    }
   ],
   "source": [
    "sell_in, _ = read_record(record_path, record_type, DEBUG=True)"
   ]
  },
  {
   "cell_type": "markdown",
   "metadata": {},
   "source": [
    "#### Sell out"
   ]
  },
  {
   "cell_type": "code",
   "execution_count": 18,
   "metadata": {
    "ExecuteTime": {
     "end_time": "2018-08-29T11:27:38.929549Z",
     "start_time": "2018-08-29T11:27:38.913916Z"
    }
   },
   "outputs": [],
   "source": [
    "record_path = \"data/Data Fresh/Description/SELLOUT_20180709082318.csv\"\n",
    "record_type = 'sell_out'"
   ]
  },
  {
   "cell_type": "code",
   "execution_count": 19,
   "metadata": {
    "ExecuteTime": {
     "end_time": "2018-08-29T11:27:48.644229Z",
     "start_time": "2018-08-29T11:27:38.929549Z"
    }
   },
   "outputs": [
    {
     "name": "stdout",
     "output_type": "stream",
     "text": [
      "Dates: 0            NaN\n",
      "1            NaN\n",
      "2            NaN\n",
      "3            NaN\n",
      "4     2018.06.29\n",
      "5     2018.06.30\n",
      "6     2018.07.01\n",
      "7     2018.07.02\n",
      "8     2018.07.03\n",
      "9     2018.07.04\n",
      "10    2018.07.05\n",
      "11    2018.07.06\n",
      "12    2018.07.07\n",
      "13    2018.07.08\n",
      "Name: 0, dtype: object\n",
      "Original shape: (195996, 14)\n",
      "Serialized shape: (743030, 6)\n",
      "Final shape: (743030, 1)\n",
      "Quantity_sell_out    float64\n",
      "dtype: object\n",
      "                                 Quantity_sell_out\n",
      "Retailer     SKU     Date                         \n",
      "HU0001/00009 A003505 2018-06-30              200.0\n",
      "                     2018-07-07              200.0\n",
      "             A004283 2018-07-04              200.0\n",
      "             A004318 2018-07-03              400.0\n",
      "                     2018-07-08              200.0\n"
     ]
    }
   ],
   "source": [
    "sell_out, _ = read_record(record_path, record_type, DEBUG=True)"
   ]
  },
  {
   "cell_type": "markdown",
   "metadata": {},
   "source": [
    "#### Retailer"
   ]
  },
  {
   "cell_type": "code",
   "execution_count": 20,
   "metadata": {
    "ExecuteTime": {
     "end_time": "2018-08-29T11:27:48.659816Z",
     "start_time": "2018-08-29T11:27:48.644229Z"
    }
   },
   "outputs": [],
   "source": [
    "record_path = \"data/Data Fresh/Description/VEVO_20180709082824.csv\"\n",
    "record_type = 'retailer'"
   ]
  },
  {
   "cell_type": "code",
   "execution_count": 21,
   "metadata": {
    "ExecuteTime": {
     "end_time": "2018-08-29T11:27:48.909756Z",
     "start_time": "2018-08-29T11:27:48.659816Z"
    }
   },
   "outputs": [
    {
     "name": "stdout",
     "output_type": "stream",
     "text": [
      "Final shape: (5928, 5)\n",
      "Zipcode    object\n",
      "City       object\n",
      "Address    object\n",
      "Active       bool\n",
      "County     object\n",
      "dtype: object\n",
      "            Zipcode               City            Address  Active    County\n",
      "Retailer                                                                   \n",
      "RT/HU0401/1    1094  Budapest 09. ker.      Tompa utca 9.    True  Budapest\n",
      "RT/HU0395/1    1035  Budapest 03. ker.  Szentendrei út 8.    True  Budapest\n",
      "RT/HU0394/2    1029  Budapest 02. ker.     Ábránd utca 2.    True  Budapest\n",
      "RT/HU0401/2    1094  Budapest 09. ker.     Tompa utca 18.    True  Budapest\n",
      "KJ/HU2495/1    8096             Sukoró  Fehérvári utca 1.    True     Fejér\n"
     ]
    }
   ],
   "source": [
    "retailer = read_record(record_path, record_type, DEBUG=True)"
   ]
  },
  {
   "cell_type": "markdown",
   "metadata": {},
   "source": [
    "#### SKU"
   ]
  },
  {
   "cell_type": "code",
   "execution_count": 22,
   "metadata": {
    "ExecuteTime": {
     "end_time": "2018-08-29T11:27:49.019189Z",
     "start_time": "2018-08-29T11:27:48.909756Z"
    }
   },
   "outputs": [],
   "source": [
    "record_path = \"data/Data Fresh/Description/CIKK_20180709082836.csv\"\n",
    "record_type = 'sku'"
   ]
  },
  {
   "cell_type": "code",
   "execution_count": 23,
   "metadata": {
    "ExecuteTime": {
     "end_time": "2018-08-29T11:27:49.503367Z",
     "start_time": "2018-08-29T11:27:49.019189Z"
    }
   },
   "outputs": [
    {
     "name": "stdout",
     "output_type": "stream",
     "text": [
      "Handling exception in read_series_astype...\n",
      "unique values: ['0' '1' '10' '12' '2' '3' '4' '5' '6' '7' '8' '9' '9,5'] \n",
      "dtype: float64 \n",
      "\n",
      "Handling exception in read_series_astype...\n",
      "unique values: ['0' '0,1' '0,2' '0,3' '0,4' '0,5' '0,6' '0,7' '0,8' '0,9' '1' '11' '12'\n",
      " '16' '18' '3' '4' '6' '8' '9'] \n",
      "dtype: float64 \n",
      "\n",
      "Handling exception in <function read_sku_record at 0x000001F80D5828C8> ...num_nan:\n",
      " SKU                0\n",
      "Product            0\n",
      "Short_name         0\n",
      "Name               0\n",
      "Manufacturer       0\n",
      "Brand              0\n",
      "Unique          2618\n",
      "TAR_mg             0\n",
      "Nikotin_mg         0\n",
      "CO_mg              0\n",
      "Unit_quant         0\n",
      "Unit_basic         0\n",
      "dtype: int64 \n",
      "\n",
      "Final shape: (5508, 11)\n",
      "Product          object\n",
      "Short_name       object\n",
      "Name             object\n",
      "Manufacturer     object\n",
      "Brand            object\n",
      "Unique           object\n",
      "TAR_mg          float64\n",
      "Nikotin_mg      float64\n",
      "CO_mg           float64\n",
      "Unit_quant      float64\n",
      "Unit_basic       object\n",
      "dtype: object\n",
      "         Product           Short_name                     Name  \\\n",
      "SKU                                                              \n",
      "A000256     Tube  Helikon Yell huvely    Helikon Yellow huvely   \n",
      "A000443  Tobacco       Austin Red 160    TPD1_Austin Red 160 g   \n",
      "A000444  Tobacco      Austin Blue 160   TPD1_Austin Blue 160 g   \n",
      "A000445  Tobacco      Billiard FA 40g     TPD1_Billiard FA 40g   \n",
      "A000446  Tobacco   Billiard Blue 40 g  TPD1_Billiard Blue 40 g   \n",
      "\n",
      "                            Manufacturer     Brand   Unique  TAR_mg  \\\n",
      "SKU                                                                   \n",
      "A000256  Philip Morris Magyarország Kft.   Helikon  Unknown     0.0   \n",
      "A000443       Róna Dohányfeldolgozó Kft.    Austin     TPD1     0.0   \n",
      "A000444       Róna Dohányfeldolgozó Kft.    Austin     TPD1     0.0   \n",
      "A000445       Róna Dohányfeldolgozó Kft.  Billiard     TPD1     0.0   \n",
      "A000446       Róna Dohányfeldolgozó Kft.  Billiard     TPD1     0.0   \n",
      "\n",
      "         Nikotin_mg  CO_mg  Unit_quant Unit_basic  \n",
      "SKU                                                \n",
      "A000256         0.0    0.0       200.0      piece  \n",
      "A000443         0.0    0.0       160.0         gm  \n",
      "A000444         0.0    0.0       160.0         gm  \n",
      "A000445         0.0    0.0        40.0         gm  \n",
      "A000446         0.0    0.0        40.0         gm  \n"
     ]
    }
   ],
   "source": [
    "sku = read_record(record_path, record_type, DEBUG=True)"
   ]
  },
  {
   "cell_type": "markdown",
   "metadata": {},
   "source": [
    "### Merge individual files for a specific date together"
   ]
  },
  {
   "cell_type": "code",
   "execution_count": 24,
   "metadata": {
    "ExecuteTime": {
     "end_time": "2018-08-29T11:28:02.354803Z",
     "start_time": "2018-08-29T11:27:49.503367Z"
    }
   },
   "outputs": [
    {
     "name": "stdout",
     "output_type": "stream",
     "text": [
      "Handling exception in <function merge_1day_records at 0x000001F80D5AA950> ...num_nan:\n",
      " Quantity_opening_stock      22482\n",
      "Quantity_sell_in          2669104\n",
      "Quantity_sell_out         2065568\n",
      "dtype: int64 \n",
      "\n",
      "Merged shape: (2808598, 3)\n",
      "Quantity_opening_stock    float64\n",
      "Quantity_sell_in          float64\n",
      "Quantity_sell_out         float64\n",
      "dtype: object\n",
      "                                 Quantity_opening_stock  Quantity_sell_in  \\\n",
      "Retailer     SKU     Date                                                   \n",
      "HU0001/00009 A003505 2018-06-29                  1800.0               0.0   \n",
      "                     2018-06-30                  1800.0               0.0   \n",
      "                     2018-07-01                  1600.0               0.0   \n",
      "                     2018-07-02                  1600.0               0.0   \n",
      "                     2018-07-03                  1600.0               0.0   \n",
      "\n",
      "                                 Quantity_sell_out  \n",
      "Retailer     SKU     Date                           \n",
      "HU0001/00009 A003505 2018-06-29                0.0  \n",
      "                     2018-06-30              200.0  \n",
      "                     2018-07-01                0.0  \n",
      "                     2018-07-02                0.0  \n",
      "                     2018-07-03                0.0  \n"
     ]
    }
   ],
   "source": [
    "transactions = merge_1day_records(left_df=opening_stock, sell_in=sell_in, sell_out=sell_out, DEBUG=True)\n",
    "del(opening_stock)\n",
    "del(sell_in)\n",
    "del(sell_out)"
   ]
  },
  {
   "cell_type": "markdown",
   "metadata": {},
   "source": [
    "### Load records into dictionary"
   ]
  },
  {
   "cell_type": "markdown",
   "metadata": {},
   "source": [
    "#### Information about transactions"
   ]
  },
  {
   "cell_type": "code",
   "execution_count": 25,
   "metadata": {
    "ExecuteTime": {
     "end_time": "2018-08-29T11:28:02.386027Z",
     "start_time": "2018-08-29T11:28:02.354803Z"
    }
   },
   "outputs": [
    {
     "name": "stdout",
     "output_type": "stream",
     "text": [
      "            Zipcode               City            Address  Active    County\n",
      "Retailer                                                                   \n",
      "RT/HU0401/1    1094  Budapest 09. ker.      Tompa utca 9.    True  Budapest\n",
      "RT/HU0395/1    1035  Budapest 03. ker.  Szentendrei út 8.    True  Budapest\n",
      "RT/HU0394/2    1029  Budapest 02. ker.     Ábránd utca 2.    True  Budapest\n",
      "RT/HU0401/2    1094  Budapest 09. ker.     Tompa utca 18.    True  Budapest\n",
      "KJ/HU2495/1    8096             Sukoró  Fehérvári utca 1.    True     Fejér\n",
      "         Product           Short_name                     Name  \\\n",
      "SKU                                                              \n",
      "A000256     Tube  Helikon Yell huvely    Helikon Yellow huvely   \n",
      "A000443  Tobacco       Austin Red 160    TPD1_Austin Red 160 g   \n",
      "A000444  Tobacco      Austin Blue 160   TPD1_Austin Blue 160 g   \n",
      "A000445  Tobacco      Billiard FA 40g     TPD1_Billiard FA 40g   \n",
      "A000446  Tobacco   Billiard Blue 40 g  TPD1_Billiard Blue 40 g   \n",
      "\n",
      "                            Manufacturer     Brand   Unique  TAR_mg  \\\n",
      "SKU                                                                   \n",
      "A000256  Philip Morris Magyarország Kft.   Helikon  Unknown     0.0   \n",
      "A000443       Róna Dohányfeldolgozó Kft.    Austin     TPD1     0.0   \n",
      "A000444       Róna Dohányfeldolgozó Kft.    Austin     TPD1     0.0   \n",
      "A000445       Róna Dohányfeldolgozó Kft.  Billiard     TPD1     0.0   \n",
      "A000446       Róna Dohányfeldolgozó Kft.  Billiard     TPD1     0.0   \n",
      "\n",
      "         Nikotin_mg  CO_mg  Unit_quant Unit_basic  \n",
      "SKU                                                \n",
      "A000256         0.0    0.0       200.0      piece  \n",
      "A000443         0.0    0.0       160.0         gm  \n",
      "A000444         0.0    0.0       160.0         gm  \n",
      "A000445         0.0    0.0        40.0         gm  \n",
      "A000446         0.0    0.0        40.0         gm  \n"
     ]
    }
   ],
   "source": [
    "data = {'transactions': None, 'retailer': retailer, 'sku': sku}\n",
    "del(retailer)\n",
    "del(sku)\n",
    "\n",
    "print(data['retailer'].head())\n",
    "print(data['sku'].head())"
   ]
  },
  {
   "cell_type": "markdown",
   "metadata": {},
   "source": [
    "#### Transactions"
   ]
  },
  {
   "cell_type": "code",
   "execution_count": 26,
   "metadata": {
    "ExecuteTime": {
     "end_time": "2018-08-29T11:28:02.526606Z",
     "start_time": "2018-08-29T11:28:02.386027Z"
    }
   },
   "outputs": [],
   "source": [
    "date_key = '20180709'"
   ]
  },
  {
   "cell_type": "code",
   "execution_count": 27,
   "metadata": {
    "ExecuteTime": {
     "end_time": "2018-08-29T11:28:02.667197Z",
     "start_time": "2018-08-29T11:28:02.526606Z"
    }
   },
   "outputs": [
    {
     "name": "stdout",
     "output_type": "stream",
     "text": [
      "                                 Quantity_opening_stock  Quantity_sell_in  \\\n",
      "Retailer     SKU     Date                                                   \n",
      "HU0001/00009 A003505 2018-06-29                  1800.0               0.0   \n",
      "                     2018-06-30                  1800.0               0.0   \n",
      "                     2018-07-01                  1600.0               0.0   \n",
      "                     2018-07-02                  1600.0               0.0   \n",
      "                     2018-07-03                  1600.0               0.0   \n",
      "\n",
      "                                 Quantity_sell_out  \n",
      "Retailer     SKU     Date                           \n",
      "HU0001/00009 A003505 2018-06-29                0.0  \n",
      "                     2018-06-30              200.0  \n",
      "                     2018-07-01                0.0  \n",
      "                     2018-07-02                0.0  \n",
      "                     2018-07-03                0.0  \n"
     ]
    }
   ],
   "source": [
    "data['transactions'] = {date_key: transactions}\n",
    "del(transactions)\n",
    "\n",
    "print(data['transactions'][date_key].head())"
   ]
  },
  {
   "cell_type": "code",
   "execution_count": 28,
   "metadata": {
    "ExecuteTime": {
     "end_time": "2018-08-29T11:28:02.823447Z",
     "start_time": "2018-08-29T11:28:02.667197Z"
    }
   },
   "outputs": [
    {
     "name": "stdout",
     "output_type": "stream",
     "text": [
      "Size is 0.08186505 GB!\n"
     ]
    }
   ],
   "source": [
    "calc_dict_size(data['transactions'])"
   ]
  },
  {
   "cell_type": "markdown",
   "metadata": {},
   "source": [
    "## Explore"
   ]
  },
  {
   "cell_type": "markdown",
   "metadata": {},
   "source": [
    "### Create temporary dataframe"
   ]
  },
  {
   "cell_type": "code",
   "execution_count": 29,
   "metadata": {
    "ExecuteTime": {
     "end_time": "2018-08-29T11:28:02.964003Z",
     "start_time": "2018-08-29T11:28:02.823447Z"
    }
   },
   "outputs": [
    {
     "data": {
      "text/html": [
       "<div>\n",
       "<style scoped>\n",
       "    .dataframe tbody tr th:only-of-type {\n",
       "        vertical-align: middle;\n",
       "    }\n",
       "\n",
       "    .dataframe tbody tr th {\n",
       "        vertical-align: top;\n",
       "    }\n",
       "\n",
       "    .dataframe thead th {\n",
       "        text-align: right;\n",
       "    }\n",
       "</style>\n",
       "<table border=\"1\" class=\"dataframe\">\n",
       "  <thead>\n",
       "    <tr style=\"text-align: right;\">\n",
       "      <th></th>\n",
       "      <th></th>\n",
       "      <th></th>\n",
       "      <th>Quantity_opening_stock</th>\n",
       "      <th>Quantity_sell_in</th>\n",
       "      <th>Quantity_sell_out</th>\n",
       "    </tr>\n",
       "    <tr>\n",
       "      <th>Retailer</th>\n",
       "      <th>SKU</th>\n",
       "      <th>Date</th>\n",
       "      <th></th>\n",
       "      <th></th>\n",
       "      <th></th>\n",
       "    </tr>\n",
       "  </thead>\n",
       "  <tbody>\n",
       "    <tr>\n",
       "      <th rowspan=\"5\" valign=\"top\">HU0001/00009</th>\n",
       "      <th rowspan=\"5\" valign=\"top\">A003505</th>\n",
       "      <th>2018-06-29</th>\n",
       "      <td>1800.0</td>\n",
       "      <td>0.0</td>\n",
       "      <td>0.0</td>\n",
       "    </tr>\n",
       "    <tr>\n",
       "      <th>2018-06-30</th>\n",
       "      <td>1800.0</td>\n",
       "      <td>0.0</td>\n",
       "      <td>200.0</td>\n",
       "    </tr>\n",
       "    <tr>\n",
       "      <th>2018-07-01</th>\n",
       "      <td>1600.0</td>\n",
       "      <td>0.0</td>\n",
       "      <td>0.0</td>\n",
       "    </tr>\n",
       "    <tr>\n",
       "      <th>2018-07-02</th>\n",
       "      <td>1600.0</td>\n",
       "      <td>0.0</td>\n",
       "      <td>0.0</td>\n",
       "    </tr>\n",
       "    <tr>\n",
       "      <th>2018-07-03</th>\n",
       "      <td>1600.0</td>\n",
       "      <td>0.0</td>\n",
       "      <td>0.0</td>\n",
       "    </tr>\n",
       "  </tbody>\n",
       "</table>\n",
       "</div>"
      ],
      "text/plain": [
       "                                 Quantity_opening_stock  Quantity_sell_in  \\\n",
       "Retailer     SKU     Date                                                   \n",
       "HU0001/00009 A003505 2018-06-29                  1800.0               0.0   \n",
       "                     2018-06-30                  1800.0               0.0   \n",
       "                     2018-07-01                  1600.0               0.0   \n",
       "                     2018-07-02                  1600.0               0.0   \n",
       "                     2018-07-03                  1600.0               0.0   \n",
       "\n",
       "                                 Quantity_sell_out  \n",
       "Retailer     SKU     Date                           \n",
       "HU0001/00009 A003505 2018-06-29                0.0  \n",
       "                     2018-06-30              200.0  \n",
       "                     2018-07-01                0.0  \n",
       "                     2018-07-02                0.0  \n",
       "                     2018-07-03                0.0  "
      ]
     },
     "execution_count": 29,
     "metadata": {},
     "output_type": "execute_result"
    }
   ],
   "source": [
    "explore = data['transactions'][date_key].copy()\n",
    "explore.head()"
   ]
  },
  {
   "cell_type": "markdown",
   "metadata": {},
   "source": [
    "### Save in excel"
   ]
  },
  {
   "cell_type": "code",
   "execution_count": 30,
   "metadata": {
    "ExecuteTime": {
     "end_time": "2018-08-29T11:28:03.089158Z",
     "start_time": "2018-08-29T11:28:02.964003Z"
    }
   },
   "outputs": [],
   "source": [
    "#writer = pd.ExcelWriter('data/explore.xlsx')\n",
    "#explore.to_excel(writer)\n",
    "#writer.save()\n",
    "#writer.close()"
   ]
  },
  {
   "cell_type": "markdown",
   "metadata": {},
   "source": [
    "### Multi-index slicing"
   ]
  },
  {
   "cell_type": "markdown",
   "metadata": {},
   "source": [
    "#### Approach 1"
   ]
  },
  {
   "cell_type": "code",
   "execution_count": 31,
   "metadata": {
    "ExecuteTime": {
     "end_time": "2018-08-29T11:28:03.292067Z",
     "start_time": "2018-08-29T11:28:03.089158Z"
    }
   },
   "outputs": [
    {
     "name": "stdout",
     "output_type": "stream",
     "text": [
      "HU0001/00009\n"
     ]
    }
   ],
   "source": [
    "print(explore.index.get_level_values('Retailer')[0]) # Index to select the retailer in the 0th row"
   ]
  },
  {
   "cell_type": "code",
   "execution_count": 32,
   "metadata": {
    "ExecuteTime": {
     "end_time": "2018-08-29T11:28:03.495126Z",
     "start_time": "2018-08-29T11:28:03.292067Z"
    }
   },
   "outputs": [
    {
     "data": {
      "text/html": [
       "<div>\n",
       "<style scoped>\n",
       "    .dataframe tbody tr th:only-of-type {\n",
       "        vertical-align: middle;\n",
       "    }\n",
       "\n",
       "    .dataframe tbody tr th {\n",
       "        vertical-align: top;\n",
       "    }\n",
       "\n",
       "    .dataframe thead th {\n",
       "        text-align: right;\n",
       "    }\n",
       "</style>\n",
       "<table border=\"1\" class=\"dataframe\">\n",
       "  <thead>\n",
       "    <tr style=\"text-align: right;\">\n",
       "      <th></th>\n",
       "      <th></th>\n",
       "      <th>Quantity_opening_stock</th>\n",
       "      <th>Quantity_sell_in</th>\n",
       "      <th>Quantity_sell_out</th>\n",
       "    </tr>\n",
       "    <tr>\n",
       "      <th>SKU</th>\n",
       "      <th>Date</th>\n",
       "      <th></th>\n",
       "      <th></th>\n",
       "      <th></th>\n",
       "    </tr>\n",
       "  </thead>\n",
       "  <tbody>\n",
       "    <tr>\n",
       "      <th rowspan=\"5\" valign=\"top\">A003505</th>\n",
       "      <th>2018-06-29</th>\n",
       "      <td>1800.0</td>\n",
       "      <td>0.0</td>\n",
       "      <td>0.0</td>\n",
       "    </tr>\n",
       "    <tr>\n",
       "      <th>2018-06-30</th>\n",
       "      <td>1800.0</td>\n",
       "      <td>0.0</td>\n",
       "      <td>200.0</td>\n",
       "    </tr>\n",
       "    <tr>\n",
       "      <th>2018-07-01</th>\n",
       "      <td>1600.0</td>\n",
       "      <td>0.0</td>\n",
       "      <td>0.0</td>\n",
       "    </tr>\n",
       "    <tr>\n",
       "      <th>2018-07-02</th>\n",
       "      <td>1600.0</td>\n",
       "      <td>0.0</td>\n",
       "      <td>0.0</td>\n",
       "    </tr>\n",
       "    <tr>\n",
       "      <th>2018-07-03</th>\n",
       "      <td>1600.0</td>\n",
       "      <td>0.0</td>\n",
       "      <td>0.0</td>\n",
       "    </tr>\n",
       "  </tbody>\n",
       "</table>\n",
       "</div>"
      ],
      "text/plain": [
       "                    Quantity_opening_stock  Quantity_sell_in  \\\n",
       "SKU     Date                                                   \n",
       "A003505 2018-06-29                  1800.0               0.0   \n",
       "        2018-06-30                  1800.0               0.0   \n",
       "        2018-07-01                  1600.0               0.0   \n",
       "        2018-07-02                  1600.0               0.0   \n",
       "        2018-07-03                  1600.0               0.0   \n",
       "\n",
       "                    Quantity_sell_out  \n",
       "SKU     Date                           \n",
       "A003505 2018-06-29                0.0  \n",
       "        2018-06-30              200.0  \n",
       "        2018-07-01                0.0  \n",
       "        2018-07-02                0.0  \n",
       "        2018-07-03                0.0  "
      ]
     },
     "execution_count": 32,
     "metadata": {},
     "output_type": "execute_result"
    }
   ],
   "source": [
    "# Select the retailer in the 0th row\n",
    "explore.loc[explore.index.get_level_values('Retailer')[0]].head()"
   ]
  },
  {
   "cell_type": "markdown",
   "metadata": {},
   "source": [
    "#### Approach 2"
   ]
  },
  {
   "cell_type": "code",
   "execution_count": 33,
   "metadata": {
    "ExecuteTime": {
     "end_time": "2018-08-29T11:28:04.729267Z",
     "start_time": "2018-08-29T11:28:03.495126Z"
    }
   },
   "outputs": [
    {
     "name": "stdout",
     "output_type": "stream",
     "text": [
      "('HU0001/00009', 'A003505', Timestamp('2018-06-29 00:00:00'))\n",
      "A003505\n"
     ]
    }
   ],
   "source": [
    "print(explore.index.get_values()[0]) # Index in the 0th row\n",
    "\n",
    "print(explore.index.get_values()[0][1]) # Index to select the SKU in the 0th row"
   ]
  },
  {
   "cell_type": "code",
   "execution_count": 34,
   "metadata": {
    "ExecuteTime": {
     "end_time": "2018-08-29T11:28:04.822937Z",
     "start_time": "2018-08-29T11:28:04.729267Z"
    }
   },
   "outputs": [
    {
     "data": {
      "text/html": [
       "<div>\n",
       "<style scoped>\n",
       "    .dataframe tbody tr th:only-of-type {\n",
       "        vertical-align: middle;\n",
       "    }\n",
       "\n",
       "    .dataframe tbody tr th {\n",
       "        vertical-align: top;\n",
       "    }\n",
       "\n",
       "    .dataframe thead th {\n",
       "        text-align: right;\n",
       "    }\n",
       "</style>\n",
       "<table border=\"1\" class=\"dataframe\">\n",
       "  <thead>\n",
       "    <tr style=\"text-align: right;\">\n",
       "      <th></th>\n",
       "      <th></th>\n",
       "      <th></th>\n",
       "      <th>Quantity_opening_stock</th>\n",
       "      <th>Quantity_sell_in</th>\n",
       "      <th>Quantity_sell_out</th>\n",
       "    </tr>\n",
       "    <tr>\n",
       "      <th>Retailer</th>\n",
       "      <th>SKU</th>\n",
       "      <th>Date</th>\n",
       "      <th></th>\n",
       "      <th></th>\n",
       "      <th></th>\n",
       "    </tr>\n",
       "  </thead>\n",
       "  <tbody>\n",
       "    <tr>\n",
       "      <th rowspan=\"5\" valign=\"top\">HU0001/00009</th>\n",
       "      <th rowspan=\"5\" valign=\"top\">A003505</th>\n",
       "      <th>2018-06-29</th>\n",
       "      <td>1800.0</td>\n",
       "      <td>0.0</td>\n",
       "      <td>0.0</td>\n",
       "    </tr>\n",
       "    <tr>\n",
       "      <th>2018-06-30</th>\n",
       "      <td>1800.0</td>\n",
       "      <td>0.0</td>\n",
       "      <td>200.0</td>\n",
       "    </tr>\n",
       "    <tr>\n",
       "      <th>2018-07-01</th>\n",
       "      <td>1600.0</td>\n",
       "      <td>0.0</td>\n",
       "      <td>0.0</td>\n",
       "    </tr>\n",
       "    <tr>\n",
       "      <th>2018-07-02</th>\n",
       "      <td>1600.0</td>\n",
       "      <td>0.0</td>\n",
       "      <td>0.0</td>\n",
       "    </tr>\n",
       "    <tr>\n",
       "      <th>2018-07-03</th>\n",
       "      <td>1600.0</td>\n",
       "      <td>0.0</td>\n",
       "      <td>0.0</td>\n",
       "    </tr>\n",
       "  </tbody>\n",
       "</table>\n",
       "</div>"
      ],
      "text/plain": [
       "                                 Quantity_opening_stock  Quantity_sell_in  \\\n",
       "Retailer     SKU     Date                                                   \n",
       "HU0001/00009 A003505 2018-06-29                  1800.0               0.0   \n",
       "                     2018-06-30                  1800.0               0.0   \n",
       "                     2018-07-01                  1600.0               0.0   \n",
       "                     2018-07-02                  1600.0               0.0   \n",
       "                     2018-07-03                  1600.0               0.0   \n",
       "\n",
       "                                 Quantity_sell_out  \n",
       "Retailer     SKU     Date                           \n",
       "HU0001/00009 A003505 2018-06-29                0.0  \n",
       "                     2018-06-30              200.0  \n",
       "                     2018-07-01                0.0  \n",
       "                     2018-07-02                0.0  \n",
       "                     2018-07-03                0.0  "
      ]
     },
     "execution_count": 34,
     "metadata": {},
     "output_type": "execute_result"
    }
   ],
   "source": [
    "# Select the SKU in the 0th row\n",
    "explore.loc[(slice(None), explore.index.get_values()[0][1]), :].head()"
   ]
  },
  {
   "cell_type": "markdown",
   "metadata": {},
   "source": [
    "#### Approach 3"
   ]
  },
  {
   "cell_type": "code",
   "execution_count": 35,
   "metadata": {
    "ExecuteTime": {
     "end_time": "2018-08-29T11:28:04.885424Z",
     "start_time": "2018-08-29T11:28:04.822937Z"
    }
   },
   "outputs": [
    {
     "name": "stdout",
     "output_type": "stream",
     "text": [
      "('HU0001/00009', 'A003505', Timestamp('2018-06-29 00:00:00'))\n",
      "('HU0001/00009', 'A003505')\n"
     ]
    }
   ],
   "source": [
    "print(explore.index[0]) # Index in the 0th row\n",
    "\n",
    "multi_index = explore.index[0][:2] # Index to select the retailer and SKU in the 0th row\n",
    "print(multi_index)"
   ]
  },
  {
   "cell_type": "code",
   "execution_count": 36,
   "metadata": {
    "ExecuteTime": {
     "end_time": "2018-08-29T11:28:05.057294Z",
     "start_time": "2018-08-29T11:28:04.885424Z"
    }
   },
   "outputs": [
    {
     "data": {
      "text/html": [
       "<div>\n",
       "<style scoped>\n",
       "    .dataframe tbody tr th:only-of-type {\n",
       "        vertical-align: middle;\n",
       "    }\n",
       "\n",
       "    .dataframe tbody tr th {\n",
       "        vertical-align: top;\n",
       "    }\n",
       "\n",
       "    .dataframe thead th {\n",
       "        text-align: right;\n",
       "    }\n",
       "</style>\n",
       "<table border=\"1\" class=\"dataframe\">\n",
       "  <thead>\n",
       "    <tr style=\"text-align: right;\">\n",
       "      <th></th>\n",
       "      <th></th>\n",
       "      <th></th>\n",
       "      <th>Quantity_opening_stock</th>\n",
       "      <th>Quantity_sell_in</th>\n",
       "      <th>Quantity_sell_out</th>\n",
       "    </tr>\n",
       "    <tr>\n",
       "      <th>Retailer</th>\n",
       "      <th>SKU</th>\n",
       "      <th>Date</th>\n",
       "      <th></th>\n",
       "      <th></th>\n",
       "      <th></th>\n",
       "    </tr>\n",
       "  </thead>\n",
       "  <tbody>\n",
       "    <tr>\n",
       "      <th rowspan=\"5\" valign=\"top\">HU0001/00009</th>\n",
       "      <th rowspan=\"5\" valign=\"top\">A003505</th>\n",
       "      <th>2018-06-29</th>\n",
       "      <td>1800.0</td>\n",
       "      <td>0.0</td>\n",
       "      <td>0.0</td>\n",
       "    </tr>\n",
       "    <tr>\n",
       "      <th>2018-06-30</th>\n",
       "      <td>1800.0</td>\n",
       "      <td>0.0</td>\n",
       "      <td>200.0</td>\n",
       "    </tr>\n",
       "    <tr>\n",
       "      <th>2018-07-01</th>\n",
       "      <td>1600.0</td>\n",
       "      <td>0.0</td>\n",
       "      <td>0.0</td>\n",
       "    </tr>\n",
       "    <tr>\n",
       "      <th>2018-07-02</th>\n",
       "      <td>1600.0</td>\n",
       "      <td>0.0</td>\n",
       "      <td>0.0</td>\n",
       "    </tr>\n",
       "    <tr>\n",
       "      <th>2018-07-03</th>\n",
       "      <td>1600.0</td>\n",
       "      <td>0.0</td>\n",
       "      <td>0.0</td>\n",
       "    </tr>\n",
       "  </tbody>\n",
       "</table>\n",
       "</div>"
      ],
      "text/plain": [
       "                                 Quantity_opening_stock  Quantity_sell_in  \\\n",
       "Retailer     SKU     Date                                                   \n",
       "HU0001/00009 A003505 2018-06-29                  1800.0               0.0   \n",
       "                     2018-06-30                  1800.0               0.0   \n",
       "                     2018-07-01                  1600.0               0.0   \n",
       "                     2018-07-02                  1600.0               0.0   \n",
       "                     2018-07-03                  1600.0               0.0   \n",
       "\n",
       "                                 Quantity_sell_out  \n",
       "Retailer     SKU     Date                           \n",
       "HU0001/00009 A003505 2018-06-29                0.0  \n",
       "                     2018-06-30              200.0  \n",
       "                     2018-07-01                0.0  \n",
       "                     2018-07-02                0.0  \n",
       "                     2018-07-03                0.0  "
      ]
     },
     "execution_count": 36,
     "metadata": {},
     "output_type": "execute_result"
    }
   ],
   "source": [
    "# Select the retailer and SKU in the 0th row\n",
    "explore.loc[list(multi_index)].head()"
   ]
  },
  {
   "cell_type": "markdown",
   "metadata": {},
   "source": [
    "### Resetting multi-index"
   ]
  },
  {
   "cell_type": "code",
   "execution_count": 37,
   "metadata": {
    "ExecuteTime": {
     "end_time": "2018-08-29T11:28:05.463414Z",
     "start_time": "2018-08-29T11:28:05.057294Z"
    }
   },
   "outputs": [
    {
     "data": {
      "text/html": [
       "<div>\n",
       "<style scoped>\n",
       "    .dataframe tbody tr th:only-of-type {\n",
       "        vertical-align: middle;\n",
       "    }\n",
       "\n",
       "    .dataframe tbody tr th {\n",
       "        vertical-align: top;\n",
       "    }\n",
       "\n",
       "    .dataframe thead th {\n",
       "        text-align: right;\n",
       "    }\n",
       "</style>\n",
       "<table border=\"1\" class=\"dataframe\">\n",
       "  <thead>\n",
       "    <tr style=\"text-align: right;\">\n",
       "      <th></th>\n",
       "      <th>Retailer</th>\n",
       "      <th>SKU</th>\n",
       "      <th>Date</th>\n",
       "      <th>Quantity_opening_stock</th>\n",
       "      <th>Quantity_sell_in</th>\n",
       "      <th>Quantity_sell_out</th>\n",
       "    </tr>\n",
       "  </thead>\n",
       "  <tbody>\n",
       "    <tr>\n",
       "      <th>0</th>\n",
       "      <td>HU0001/00009</td>\n",
       "      <td>A003505</td>\n",
       "      <td>2018-06-29</td>\n",
       "      <td>1800.0</td>\n",
       "      <td>0.0</td>\n",
       "      <td>0.0</td>\n",
       "    </tr>\n",
       "    <tr>\n",
       "      <th>1</th>\n",
       "      <td>HU0001/00009</td>\n",
       "      <td>A003505</td>\n",
       "      <td>2018-06-30</td>\n",
       "      <td>1800.0</td>\n",
       "      <td>0.0</td>\n",
       "      <td>200.0</td>\n",
       "    </tr>\n",
       "    <tr>\n",
       "      <th>2</th>\n",
       "      <td>HU0001/00009</td>\n",
       "      <td>A003505</td>\n",
       "      <td>2018-07-01</td>\n",
       "      <td>1600.0</td>\n",
       "      <td>0.0</td>\n",
       "      <td>0.0</td>\n",
       "    </tr>\n",
       "    <tr>\n",
       "      <th>3</th>\n",
       "      <td>HU0001/00009</td>\n",
       "      <td>A003505</td>\n",
       "      <td>2018-07-02</td>\n",
       "      <td>1600.0</td>\n",
       "      <td>0.0</td>\n",
       "      <td>0.0</td>\n",
       "    </tr>\n",
       "    <tr>\n",
       "      <th>4</th>\n",
       "      <td>HU0001/00009</td>\n",
       "      <td>A003505</td>\n",
       "      <td>2018-07-03</td>\n",
       "      <td>1600.0</td>\n",
       "      <td>0.0</td>\n",
       "      <td>0.0</td>\n",
       "    </tr>\n",
       "  </tbody>\n",
       "</table>\n",
       "</div>"
      ],
      "text/plain": [
       "       Retailer      SKU       Date  Quantity_opening_stock  Quantity_sell_in  \\\n",
       "0  HU0001/00009  A003505 2018-06-29                  1800.0               0.0   \n",
       "1  HU0001/00009  A003505 2018-06-30                  1800.0               0.0   \n",
       "2  HU0001/00009  A003505 2018-07-01                  1600.0               0.0   \n",
       "3  HU0001/00009  A003505 2018-07-02                  1600.0               0.0   \n",
       "4  HU0001/00009  A003505 2018-07-03                  1600.0               0.0   \n",
       "\n",
       "   Quantity_sell_out  \n",
       "0                0.0  \n",
       "1              200.0  \n",
       "2                0.0  \n",
       "3                0.0  \n",
       "4                0.0  "
      ]
     },
     "execution_count": 37,
     "metadata": {},
     "output_type": "execute_result"
    }
   ],
   "source": [
    "explore.reset_index().head()"
   ]
  },
  {
   "cell_type": "markdown",
   "metadata": {},
   "source": [
    "### Unstacking"
   ]
  },
  {
   "cell_type": "code",
   "execution_count": 38,
   "metadata": {
    "ExecuteTime": {
     "end_time": "2018-08-29T11:28:06.709610Z",
     "start_time": "2018-08-29T11:28:05.463414Z"
    }
   },
   "outputs": [
    {
     "data": {
      "text/html": [
       "<div>\n",
       "<style scoped>\n",
       "    .dataframe tbody tr th:only-of-type {\n",
       "        vertical-align: middle;\n",
       "    }\n",
       "\n",
       "    .dataframe tbody tr th {\n",
       "        vertical-align: top;\n",
       "    }\n",
       "\n",
       "    .dataframe thead tr th {\n",
       "        text-align: left;\n",
       "    }\n",
       "\n",
       "    .dataframe thead tr:last-of-type th {\n",
       "        text-align: right;\n",
       "    }\n",
       "</style>\n",
       "<table border=\"1\" class=\"dataframe\">\n",
       "  <thead>\n",
       "    <tr>\n",
       "      <th></th>\n",
       "      <th></th>\n",
       "      <th colspan=\"10\" halign=\"left\">Quantity_opening_stock</th>\n",
       "      <th>...</th>\n",
       "      <th colspan=\"10\" halign=\"left\">Quantity_sell_out</th>\n",
       "    </tr>\n",
       "    <tr>\n",
       "      <th></th>\n",
       "      <th>Date</th>\n",
       "      <th>2018-06-29</th>\n",
       "      <th>2018-06-30</th>\n",
       "      <th>2018-07-01</th>\n",
       "      <th>2018-07-02</th>\n",
       "      <th>2018-07-03</th>\n",
       "      <th>2018-07-04</th>\n",
       "      <th>2018-07-05</th>\n",
       "      <th>2018-07-06</th>\n",
       "      <th>2018-07-07</th>\n",
       "      <th>2018-07-08</th>\n",
       "      <th>...</th>\n",
       "      <th>2018-06-29</th>\n",
       "      <th>2018-06-30</th>\n",
       "      <th>2018-07-01</th>\n",
       "      <th>2018-07-02</th>\n",
       "      <th>2018-07-03</th>\n",
       "      <th>2018-07-04</th>\n",
       "      <th>2018-07-05</th>\n",
       "      <th>2018-07-06</th>\n",
       "      <th>2018-07-07</th>\n",
       "      <th>2018-07-08</th>\n",
       "    </tr>\n",
       "    <tr>\n",
       "      <th>Retailer</th>\n",
       "      <th>SKU</th>\n",
       "      <th></th>\n",
       "      <th></th>\n",
       "      <th></th>\n",
       "      <th></th>\n",
       "      <th></th>\n",
       "      <th></th>\n",
       "      <th></th>\n",
       "      <th></th>\n",
       "      <th></th>\n",
       "      <th></th>\n",
       "      <th></th>\n",
       "      <th></th>\n",
       "      <th></th>\n",
       "      <th></th>\n",
       "      <th></th>\n",
       "      <th></th>\n",
       "      <th></th>\n",
       "      <th></th>\n",
       "      <th></th>\n",
       "      <th></th>\n",
       "      <th></th>\n",
       "    </tr>\n",
       "  </thead>\n",
       "  <tbody>\n",
       "    <tr>\n",
       "      <th rowspan=\"5\" valign=\"top\">HU0001/00009</th>\n",
       "      <th>A003505</th>\n",
       "      <td>1800.0</td>\n",
       "      <td>1800.0</td>\n",
       "      <td>1600.0</td>\n",
       "      <td>1600.0</td>\n",
       "      <td>1600.0</td>\n",
       "      <td>1600.0</td>\n",
       "      <td>1600.0</td>\n",
       "      <td>1600.0</td>\n",
       "      <td>1600.0</td>\n",
       "      <td>1400.0</td>\n",
       "      <td>...</td>\n",
       "      <td>0.0</td>\n",
       "      <td>200.0</td>\n",
       "      <td>0.0</td>\n",
       "      <td>0.0</td>\n",
       "      <td>0.0</td>\n",
       "      <td>0.0</td>\n",
       "      <td>0.0</td>\n",
       "      <td>0.0</td>\n",
       "      <td>200.0</td>\n",
       "      <td>0.0</td>\n",
       "    </tr>\n",
       "    <tr>\n",
       "      <th>A004283</th>\n",
       "      <td>5200.0</td>\n",
       "      <td>5200.0</td>\n",
       "      <td>5200.0</td>\n",
       "      <td>5200.0</td>\n",
       "      <td>5200.0</td>\n",
       "      <td>5200.0</td>\n",
       "      <td>5000.0</td>\n",
       "      <td>5000.0</td>\n",
       "      <td>5000.0</td>\n",
       "      <td>5000.0</td>\n",
       "      <td>...</td>\n",
       "      <td>0.0</td>\n",
       "      <td>0.0</td>\n",
       "      <td>0.0</td>\n",
       "      <td>0.0</td>\n",
       "      <td>0.0</td>\n",
       "      <td>200.0</td>\n",
       "      <td>0.0</td>\n",
       "      <td>0.0</td>\n",
       "      <td>0.0</td>\n",
       "      <td>0.0</td>\n",
       "    </tr>\n",
       "    <tr>\n",
       "      <th>A004318</th>\n",
       "      <td>2200.0</td>\n",
       "      <td>2200.0</td>\n",
       "      <td>2200.0</td>\n",
       "      <td>2200.0</td>\n",
       "      <td>2200.0</td>\n",
       "      <td>1800.0</td>\n",
       "      <td>1800.0</td>\n",
       "      <td>1800.0</td>\n",
       "      <td>1800.0</td>\n",
       "      <td>1800.0</td>\n",
       "      <td>...</td>\n",
       "      <td>0.0</td>\n",
       "      <td>0.0</td>\n",
       "      <td>0.0</td>\n",
       "      <td>0.0</td>\n",
       "      <td>400.0</td>\n",
       "      <td>0.0</td>\n",
       "      <td>0.0</td>\n",
       "      <td>0.0</td>\n",
       "      <td>0.0</td>\n",
       "      <td>200.0</td>\n",
       "    </tr>\n",
       "    <tr>\n",
       "      <th>A004483</th>\n",
       "      <td>1800.0</td>\n",
       "      <td>1800.0</td>\n",
       "      <td>1800.0</td>\n",
       "      <td>1800.0</td>\n",
       "      <td>1800.0</td>\n",
       "      <td>1800.0</td>\n",
       "      <td>1800.0</td>\n",
       "      <td>1800.0</td>\n",
       "      <td>1800.0</td>\n",
       "      <td>1800.0</td>\n",
       "      <td>...</td>\n",
       "      <td>0.0</td>\n",
       "      <td>0.0</td>\n",
       "      <td>0.0</td>\n",
       "      <td>0.0</td>\n",
       "      <td>0.0</td>\n",
       "      <td>0.0</td>\n",
       "      <td>0.0</td>\n",
       "      <td>0.0</td>\n",
       "      <td>0.0</td>\n",
       "      <td>0.0</td>\n",
       "    </tr>\n",
       "    <tr>\n",
       "      <th>A004485</th>\n",
       "      <td>1000.0</td>\n",
       "      <td>1000.0</td>\n",
       "      <td>1000.0</td>\n",
       "      <td>1000.0</td>\n",
       "      <td>1000.0</td>\n",
       "      <td>1000.0</td>\n",
       "      <td>1000.0</td>\n",
       "      <td>1000.0</td>\n",
       "      <td>1000.0</td>\n",
       "      <td>800.0</td>\n",
       "      <td>...</td>\n",
       "      <td>0.0</td>\n",
       "      <td>0.0</td>\n",
       "      <td>0.0</td>\n",
       "      <td>0.0</td>\n",
       "      <td>0.0</td>\n",
       "      <td>0.0</td>\n",
       "      <td>0.0</td>\n",
       "      <td>0.0</td>\n",
       "      <td>200.0</td>\n",
       "      <td>0.0</td>\n",
       "    </tr>\n",
       "  </tbody>\n",
       "</table>\n",
       "<p>5 rows × 30 columns</p>\n",
       "</div>"
      ],
      "text/plain": [
       "                     Quantity_opening_stock                                   \\\n",
       "Date                             2018-06-29 2018-06-30 2018-07-01 2018-07-02   \n",
       "Retailer     SKU                                                               \n",
       "HU0001/00009 A003505                 1800.0     1800.0     1600.0     1600.0   \n",
       "             A004283                 5200.0     5200.0     5200.0     5200.0   \n",
       "             A004318                 2200.0     2200.0     2200.0     2200.0   \n",
       "             A004483                 1800.0     1800.0     1800.0     1800.0   \n",
       "             A004485                 1000.0     1000.0     1000.0     1000.0   \n",
       "\n",
       "                                                                             \\\n",
       "Date                 2018-07-03 2018-07-04 2018-07-05 2018-07-06 2018-07-07   \n",
       "Retailer     SKU                                                              \n",
       "HU0001/00009 A003505     1600.0     1600.0     1600.0     1600.0     1600.0   \n",
       "             A004283     5200.0     5200.0     5000.0     5000.0     5000.0   \n",
       "             A004318     2200.0     1800.0     1800.0     1800.0     1800.0   \n",
       "             A004483     1800.0     1800.0     1800.0     1800.0     1800.0   \n",
       "             A004485     1000.0     1000.0     1000.0     1000.0     1000.0   \n",
       "\n",
       "                                   ...     Quantity_sell_out             \\\n",
       "Date                 2018-07-08    ...            2018-06-29 2018-06-30   \n",
       "Retailer     SKU                   ...                                    \n",
       "HU0001/00009 A003505     1400.0    ...                   0.0      200.0   \n",
       "             A004283     5000.0    ...                   0.0        0.0   \n",
       "             A004318     1800.0    ...                   0.0        0.0   \n",
       "             A004483     1800.0    ...                   0.0        0.0   \n",
       "             A004485      800.0    ...                   0.0        0.0   \n",
       "\n",
       "                                                                             \\\n",
       "Date                 2018-07-01 2018-07-02 2018-07-03 2018-07-04 2018-07-05   \n",
       "Retailer     SKU                                                              \n",
       "HU0001/00009 A003505        0.0        0.0        0.0        0.0        0.0   \n",
       "             A004283        0.0        0.0        0.0      200.0        0.0   \n",
       "             A004318        0.0        0.0      400.0        0.0        0.0   \n",
       "             A004483        0.0        0.0        0.0        0.0        0.0   \n",
       "             A004485        0.0        0.0        0.0        0.0        0.0   \n",
       "\n",
       "                                                       \n",
       "Date                 2018-07-06 2018-07-07 2018-07-08  \n",
       "Retailer     SKU                                       \n",
       "HU0001/00009 A003505        0.0      200.0        0.0  \n",
       "             A004283        0.0        0.0        0.0  \n",
       "             A004318        0.0        0.0      200.0  \n",
       "             A004483        0.0        0.0        0.0  \n",
       "             A004485        0.0      200.0        0.0  \n",
       "\n",
       "[5 rows x 30 columns]"
      ]
     },
     "execution_count": 38,
     "metadata": {},
     "output_type": "execute_result"
    }
   ],
   "source": [
    "explore.unstack().head()"
   ]
  },
  {
   "cell_type": "code",
   "execution_count": 39,
   "metadata": {
    "ExecuteTime": {
     "end_time": "2018-08-29T11:28:08.006179Z",
     "start_time": "2018-08-29T11:28:06.709610Z"
    }
   },
   "outputs": [
    {
     "data": {
      "text/html": [
       "<div>\n",
       "<style scoped>\n",
       "    .dataframe tbody tr th:only-of-type {\n",
       "        vertical-align: middle;\n",
       "    }\n",
       "\n",
       "    .dataframe tbody tr th {\n",
       "        vertical-align: top;\n",
       "    }\n",
       "\n",
       "    .dataframe thead th {\n",
       "        text-align: right;\n",
       "    }\n",
       "</style>\n",
       "<table border=\"1\" class=\"dataframe\">\n",
       "  <thead>\n",
       "    <tr style=\"text-align: right;\">\n",
       "      <th></th>\n",
       "      <th>Date</th>\n",
       "      <th>2018-06-29 00:00:00</th>\n",
       "      <th>2018-06-30 00:00:00</th>\n",
       "      <th>2018-07-01 00:00:00</th>\n",
       "      <th>2018-07-02 00:00:00</th>\n",
       "      <th>2018-07-03 00:00:00</th>\n",
       "      <th>2018-07-04 00:00:00</th>\n",
       "      <th>2018-07-05 00:00:00</th>\n",
       "      <th>2018-07-06 00:00:00</th>\n",
       "      <th>2018-07-07 00:00:00</th>\n",
       "      <th>2018-07-08 00:00:00</th>\n",
       "    </tr>\n",
       "    <tr>\n",
       "      <th>Retailer</th>\n",
       "      <th>SKU</th>\n",
       "      <th></th>\n",
       "      <th></th>\n",
       "      <th></th>\n",
       "      <th></th>\n",
       "      <th></th>\n",
       "      <th></th>\n",
       "      <th></th>\n",
       "      <th></th>\n",
       "      <th></th>\n",
       "      <th></th>\n",
       "    </tr>\n",
       "  </thead>\n",
       "  <tbody>\n",
       "    <tr>\n",
       "      <th rowspan=\"5\" valign=\"top\">HU0001/00009</th>\n",
       "      <th>A003505</th>\n",
       "      <td>1800.0</td>\n",
       "      <td>1800.0</td>\n",
       "      <td>1600.0</td>\n",
       "      <td>1600.0</td>\n",
       "      <td>1600.0</td>\n",
       "      <td>1600.0</td>\n",
       "      <td>1600.0</td>\n",
       "      <td>1600.0</td>\n",
       "      <td>1600.0</td>\n",
       "      <td>1400.0</td>\n",
       "    </tr>\n",
       "    <tr>\n",
       "      <th>A004283</th>\n",
       "      <td>5200.0</td>\n",
       "      <td>5200.0</td>\n",
       "      <td>5200.0</td>\n",
       "      <td>5200.0</td>\n",
       "      <td>5200.0</td>\n",
       "      <td>5200.0</td>\n",
       "      <td>5000.0</td>\n",
       "      <td>5000.0</td>\n",
       "      <td>5000.0</td>\n",
       "      <td>5000.0</td>\n",
       "    </tr>\n",
       "    <tr>\n",
       "      <th>A004318</th>\n",
       "      <td>2200.0</td>\n",
       "      <td>2200.0</td>\n",
       "      <td>2200.0</td>\n",
       "      <td>2200.0</td>\n",
       "      <td>2200.0</td>\n",
       "      <td>1800.0</td>\n",
       "      <td>1800.0</td>\n",
       "      <td>1800.0</td>\n",
       "      <td>1800.0</td>\n",
       "      <td>1800.0</td>\n",
       "    </tr>\n",
       "    <tr>\n",
       "      <th>A004483</th>\n",
       "      <td>1800.0</td>\n",
       "      <td>1800.0</td>\n",
       "      <td>1800.0</td>\n",
       "      <td>1800.0</td>\n",
       "      <td>1800.0</td>\n",
       "      <td>1800.0</td>\n",
       "      <td>1800.0</td>\n",
       "      <td>1800.0</td>\n",
       "      <td>1800.0</td>\n",
       "      <td>1800.0</td>\n",
       "    </tr>\n",
       "    <tr>\n",
       "      <th>A004485</th>\n",
       "      <td>1000.0</td>\n",
       "      <td>1000.0</td>\n",
       "      <td>1000.0</td>\n",
       "      <td>1000.0</td>\n",
       "      <td>1000.0</td>\n",
       "      <td>1000.0</td>\n",
       "      <td>1000.0</td>\n",
       "      <td>1000.0</td>\n",
       "      <td>1000.0</td>\n",
       "      <td>800.0</td>\n",
       "    </tr>\n",
       "  </tbody>\n",
       "</table>\n",
       "</div>"
      ],
      "text/plain": [
       "Date                  2018-06-29  2018-06-30  2018-07-01  2018-07-02  \\\n",
       "Retailer     SKU                                                       \n",
       "HU0001/00009 A003505      1800.0      1800.0      1600.0      1600.0   \n",
       "             A004283      5200.0      5200.0      5200.0      5200.0   \n",
       "             A004318      2200.0      2200.0      2200.0      2200.0   \n",
       "             A004483      1800.0      1800.0      1800.0      1800.0   \n",
       "             A004485      1000.0      1000.0      1000.0      1000.0   \n",
       "\n",
       "Date                  2018-07-03  2018-07-04  2018-07-05  2018-07-06  \\\n",
       "Retailer     SKU                                                       \n",
       "HU0001/00009 A003505      1600.0      1600.0      1600.0      1600.0   \n",
       "             A004283      5200.0      5200.0      5000.0      5000.0   \n",
       "             A004318      2200.0      1800.0      1800.0      1800.0   \n",
       "             A004483      1800.0      1800.0      1800.0      1800.0   \n",
       "             A004485      1000.0      1000.0      1000.0      1000.0   \n",
       "\n",
       "Date                  2018-07-07  2018-07-08  \n",
       "Retailer     SKU                              \n",
       "HU0001/00009 A003505      1600.0      1400.0  \n",
       "             A004283      5000.0      5000.0  \n",
       "             A004318      1800.0      1800.0  \n",
       "             A004483      1800.0      1800.0  \n",
       "             A004485      1000.0       800.0  "
      ]
     },
     "execution_count": 39,
     "metadata": {},
     "output_type": "execute_result"
    }
   ],
   "source": [
    "explore.unstack().loc[:, 'Quantity_opening_stock'].head()"
   ]
  },
  {
   "cell_type": "code",
   "execution_count": 40,
   "metadata": {
    "ExecuteTime": {
     "end_time": "2018-08-29T11:28:09.271508Z",
     "start_time": "2018-08-29T11:28:08.006179Z"
    }
   },
   "outputs": [
    {
     "name": "stdout",
     "output_type": "stream",
     "text": [
      "Date                  2018-06-29  2018-06-30  2018-07-01  2018-07-02\n",
      "Retailer     SKU                                                    \n",
      "HU0001/00009 A003505      1800.0      1800.0      1600.0      1600.0\n",
      "             A004283      5200.0      5200.0      5200.0      5200.0\n",
      "             A004318      2200.0      2200.0      2200.0      2200.0\n"
     ]
    }
   ],
   "source": [
    "# Top 3 rows and first 4 columns from the above\n",
    "print(explore.unstack().loc[:, 'Quantity_opening_stock'].iloc[:3, :4])"
   ]
  },
  {
   "cell_type": "markdown",
   "metadata": {},
   "source": [
    "### Visualize"
   ]
  },
  {
   "cell_type": "code",
   "execution_count": 41,
   "metadata": {
    "ExecuteTime": {
     "end_time": "2018-08-29T11:28:09.287123Z",
     "start_time": "2018-08-29T11:28:09.271508Z"
    }
   },
   "outputs": [],
   "source": [
    "plt.rcParams['figure.figsize'] = [16,4]"
   ]
  },
  {
   "cell_type": "markdown",
   "metadata": {},
   "source": [
    "#### Time series plot"
   ]
  },
  {
   "cell_type": "code",
   "execution_count": 42,
   "metadata": {
    "ExecuteTime": {
     "end_time": "2018-08-29T11:28:10.005705Z",
     "start_time": "2018-08-29T11:28:09.287123Z"
    }
   },
   "outputs": [
    {
     "data": {
      "image/png": "[encoded data removed]",
      "text/plain": [
       "<matplotlib.figure.Figure at 0x1f80d676278>"
      ]
     },
     "metadata": {},
     "output_type": "display_data"
    }
   ],
   "source": [
    "plt.plot(explore.loc[('HU0001/00009', 'A003505')].Quantity_sell_out) # Sell-out for specific retailer and SKU\n",
    "plt.plot(explore.loc[multi_index].Quantity_sell_in) # Sell-in for the same retailer and SKU, but this time using multi_index selected in the previous step\n",
    "plt.plot(explore.loc[multi_index, 'Quantity_opening_stock']) # Opening-stock for the same retailer and SKU\n",
    "plt.tight_layout()\n",
    "plt.legend();"
   ]
  },
  {
   "cell_type": "markdown",
   "metadata": {},
   "source": [
    "### Statistics"
   ]
  },
  {
   "cell_type": "markdown",
   "metadata": {},
   "source": [
    "#### Counts"
   ]
  },
  {
   "cell_type": "code",
   "execution_count": 43,
   "metadata": {
    "ExecuteTime": {
     "end_time": "2018-08-29T11:28:11.458486Z",
     "start_time": "2018-08-29T11:28:10.005705Z"
    }
   },
   "outputs": [
    {
     "name": "stdout",
     "output_type": "stream",
     "text": [
      "Number of unique retailers: 5786 and they are:\n",
      " ['HU0001/00009' 'HU0001/00017' 'HU0001/00041' ... 'RT/HU2954/1'\n",
      " 'RT/HU3038/1' 'RT/HU3111/1']\n"
     ]
    }
   ],
   "source": [
    "# Unique retailers\n",
    "unique_levels = np.unique(explore.index.get_level_values('Retailer'))\n",
    "print(\"Number of unique retailers:\", len(unique_levels), \"and they are:\\n\", unique_levels)"
   ]
  },
  {
   "cell_type": "markdown",
   "metadata": {},
   "source": [
    "#### Aggregates"
   ]
  },
  {
   "cell_type": "markdown",
   "metadata": {},
   "source": [
    "##### Retailer * SKU acorss dates"
   ]
  },
  {
   "cell_type": "code",
   "execution_count": 44,
   "metadata": {
    "ExecuteTime": {
     "end_time": "2018-08-29T11:28:12.067716Z",
     "start_time": "2018-08-29T11:28:11.458486Z"
    }
   },
   "outputs": [
    {
     "data": {
      "text/html": [
       "<div>\n",
       "<style scoped>\n",
       "    .dataframe tbody tr th:only-of-type {\n",
       "        vertical-align: middle;\n",
       "    }\n",
       "\n",
       "    .dataframe tbody tr th {\n",
       "        vertical-align: top;\n",
       "    }\n",
       "\n",
       "    .dataframe thead tr th {\n",
       "        text-align: left;\n",
       "    }\n",
       "\n",
       "    .dataframe thead tr:last-of-type th {\n",
       "        text-align: right;\n",
       "    }\n",
       "</style>\n",
       "<table border=\"1\" class=\"dataframe\">\n",
       "  <thead>\n",
       "    <tr>\n",
       "      <th></th>\n",
       "      <th></th>\n",
       "      <th>Quantity_sell_in</th>\n",
       "      <th>Quantity_sell_out</th>\n",
       "    </tr>\n",
       "    <tr>\n",
       "      <th></th>\n",
       "      <th></th>\n",
       "      <th>sum</th>\n",
       "      <th>sum</th>\n",
       "    </tr>\n",
       "    <tr>\n",
       "      <th>Retailer</th>\n",
       "      <th>SKU</th>\n",
       "      <th></th>\n",
       "      <th></th>\n",
       "    </tr>\n",
       "  </thead>\n",
       "  <tbody>\n",
       "    <tr>\n",
       "      <th rowspan=\"5\" valign=\"top\">HU0001/00009</th>\n",
       "      <th>A003505</th>\n",
       "      <td>0.0</td>\n",
       "      <td>400.0</td>\n",
       "    </tr>\n",
       "    <tr>\n",
       "      <th>A004283</th>\n",
       "      <td>0.0</td>\n",
       "      <td>200.0</td>\n",
       "    </tr>\n",
       "    <tr>\n",
       "      <th>A004318</th>\n",
       "      <td>0.0</td>\n",
       "      <td>600.0</td>\n",
       "    </tr>\n",
       "    <tr>\n",
       "      <th>A004483</th>\n",
       "      <td>0.0</td>\n",
       "      <td>0.0</td>\n",
       "    </tr>\n",
       "    <tr>\n",
       "      <th>A004485</th>\n",
       "      <td>0.0</td>\n",
       "      <td>200.0</td>\n",
       "    </tr>\n",
       "  </tbody>\n",
       "</table>\n",
       "</div>"
      ],
      "text/plain": [
       "                     Quantity_sell_in Quantity_sell_out\n",
       "                                  sum               sum\n",
       "Retailer     SKU                                       \n",
       "HU0001/00009 A003505              0.0             400.0\n",
       "             A004283              0.0             200.0\n",
       "             A004318              0.0             600.0\n",
       "             A004483              0.0               0.0\n",
       "             A004485              0.0             200.0"
      ]
     },
     "execution_count": 44,
     "metadata": {},
     "output_type": "execute_result"
    }
   ],
   "source": [
    "# Aggregate sell_in and sell_out for retailer * SKU across dates\n",
    "explore.groupby(level=['Retailer','SKU'])[['Quantity_sell_in', 'Quantity_sell_out']].agg(['sum']).head()"
   ]
  },
  {
   "cell_type": "code",
   "execution_count": 45,
   "metadata": {
    "ExecuteTime": {
     "end_time": "2018-08-29T11:28:12.958132Z",
     "start_time": "2018-08-29T11:28:12.067716Z"
    }
   },
   "outputs": [
    {
     "name": "stdout",
     "output_type": "stream",
     "text": [
      "                           sum\n",
      "Retailer     SKU              \n",
      "HU0396/00069 A005656  117880.0\n",
      "HU0235/00015 A005381   60250.0\n",
      "HU0097/00001 A005381   58900.0\n",
      "HU0251/00049 A005381   47700.0\n",
      "             A004868   42000.0\n",
      "HU1420/00007 A004868   37650.0\n",
      "HU0235/00019 A005381   37300.0\n",
      "HU1437/00025 A005381   35100.0\n",
      "HU0299/00002 A005381   33250.0\n",
      "HU0235/00015 A004868   28050.0 \n",
      "---\n",
      "\n",
      "[('HU0396/00069', 'A005656') ('HU0235/00015', 'A005381')\n",
      " ('HU0097/00001', 'A005381') ('HU0251/00049', 'A005381')\n",
      " ('HU0251/00049', 'A004868') ('HU1420/00007', 'A004868')\n",
      " ('HU0235/00019', 'A005381') ('HU1437/00025', 'A005381')\n",
      " ('HU0299/00002', 'A005381') ('HU0235/00015', 'A004868')] \n",
      "---\n",
      "\n",
      "            Quantity_opening_stock  Quantity_sell_in  Quantity_sell_out\n",
      "Date                                                                   \n",
      "2018-06-29                     0.0           25000.0            69400.0\n",
      "2018-07-02                     0.0               0.0            11800.0\n",
      "2018-07-03                     0.0               0.0             9000.0\n",
      "2018-07-04                     0.0            7000.0            12000.0\n",
      "2018-07-05                 92240.0               0.0            15680.0\n",
      "2018-07-06                 83560.0               0.0                0.0\n",
      "2018-07-07                 83560.0               0.0                0.0\n",
      "2018-07-08                 83560.0               0.0                0.0 \n",
      "---\n",
      "\n"
     ]
    },
    {
     "data": {
      "text/html": [
       "<div>\n",
       "<style scoped>\n",
       "    .dataframe tbody tr th:only-of-type {\n",
       "        vertical-align: middle;\n",
       "    }\n",
       "\n",
       "    .dataframe tbody tr th {\n",
       "        vertical-align: top;\n",
       "    }\n",
       "\n",
       "    .dataframe thead th {\n",
       "        text-align: right;\n",
       "    }\n",
       "</style>\n",
       "<table border=\"1\" class=\"dataframe\">\n",
       "  <thead>\n",
       "    <tr style=\"text-align: right;\">\n",
       "      <th></th>\n",
       "      <th></th>\n",
       "      <th>sum</th>\n",
       "    </tr>\n",
       "    <tr>\n",
       "      <th>Retailer</th>\n",
       "      <th>SKU</th>\n",
       "      <th></th>\n",
       "    </tr>\n",
       "  </thead>\n",
       "  <tbody>\n",
       "    <tr>\n",
       "      <th>HU0396/00069</th>\n",
       "      <th>A005656</th>\n",
       "      <td>117880.0</td>\n",
       "    </tr>\n",
       "    <tr>\n",
       "      <th>HU0235/00015</th>\n",
       "      <th>A005381</th>\n",
       "      <td>60250.0</td>\n",
       "    </tr>\n",
       "    <tr>\n",
       "      <th>HU0097/00001</th>\n",
       "      <th>A005381</th>\n",
       "      <td>58900.0</td>\n",
       "    </tr>\n",
       "    <tr>\n",
       "      <th rowspan=\"2\" valign=\"top\">HU0251/00049</th>\n",
       "      <th>A005381</th>\n",
       "      <td>47700.0</td>\n",
       "    </tr>\n",
       "    <tr>\n",
       "      <th>A004868</th>\n",
       "      <td>42000.0</td>\n",
       "    </tr>\n",
       "    <tr>\n",
       "      <th>HU1420/00007</th>\n",
       "      <th>A004868</th>\n",
       "      <td>37650.0</td>\n",
       "    </tr>\n",
       "    <tr>\n",
       "      <th>HU0235/00019</th>\n",
       "      <th>A005381</th>\n",
       "      <td>37300.0</td>\n",
       "    </tr>\n",
       "    <tr>\n",
       "      <th>HU1437/00025</th>\n",
       "      <th>A005381</th>\n",
       "      <td>35100.0</td>\n",
       "    </tr>\n",
       "    <tr>\n",
       "      <th>HU0299/00002</th>\n",
       "      <th>A005381</th>\n",
       "      <td>33250.0</td>\n",
       "    </tr>\n",
       "    <tr>\n",
       "      <th>HU0235/00015</th>\n",
       "      <th>A004868</th>\n",
       "      <td>28050.0</td>\n",
       "    </tr>\n",
       "  </tbody>\n",
       "</table>\n",
       "</div>"
      ],
      "text/plain": [
       "                           sum\n",
       "Retailer     SKU              \n",
       "HU0396/00069 A005656  117880.0\n",
       "HU0235/00015 A005381   60250.0\n",
       "HU0097/00001 A005381   58900.0\n",
       "HU0251/00049 A005381   47700.0\n",
       "             A004868   42000.0\n",
       "HU1420/00007 A004868   37650.0\n",
       "HU0235/00019 A005381   37300.0\n",
       "HU1437/00025 A005381   35100.0\n",
       "HU0299/00002 A005381   33250.0\n",
       "HU0235/00015 A004868   28050.0"
      ]
     },
     "execution_count": 45,
     "metadata": {},
     "output_type": "execute_result"
    }
   ],
   "source": [
    "# Aggregate sell_out for retailer * SKU across dates\n",
    "explore_agg = explore.groupby(level=['Retailer','SKU'])[['Quantity_sell_out']].agg(['sum']).loc[:, 'Quantity_sell_out']\n",
    "\n",
    "# Sort\n",
    "explore_agg.sort_values(by=['sum'], ascending=False, inplace=True)\n",
    "print(explore_agg.head(10), \"\\n---\\n\")\n",
    "\n",
    "# Top 10 combinations\n",
    "top_combinations_index = explore_agg.index.get_values()[:10]\n",
    "print(top_combinations_index, \"\\n---\\n\")\n",
    "\n",
    "# Select the top combination\n",
    "print(explore.loc[top_combinations_index[0]], \"\\n---\\n\")\n",
    "\n",
    "# Select top 10 combinations in the aggregated dataframe\n",
    "explore_agg.loc[list(top_combinations_index)]"
   ]
  },
  {
   "cell_type": "markdown",
   "metadata": {},
   "source": [
    "##### Retailer across dates"
   ]
  },
  {
   "cell_type": "code",
   "execution_count": 46,
   "metadata": {
    "ExecuteTime": {
     "end_time": "2018-08-29T11:28:13.551742Z",
     "start_time": "2018-08-29T11:28:12.958132Z"
    }
   },
   "outputs": [
    {
     "name": "stdout",
     "output_type": "stream",
     "text": [
      "Index(['HU2479/00025', 'HU2479/00189', 'HU2479/00021', 'HU1004/00008',\n",
      "       'HU1487/00014', 'HU2479/00022', 'HU0251/00049', 'HU1450/00006',\n",
      "       'HU0097/00001', 'HU2479/00096'],\n",
      "      dtype='object', name='Retailer') \n",
      "---\n",
      "\n",
      "                    Quantity_opening_stock  Quantity_sell_in  \\\n",
      "SKU     Date                                                   \n",
      "A003505 2018-06-29                  4000.0            1000.0   \n",
      "        2018-06-30                  5000.0               0.0   \n",
      "        2018-07-01                  5000.0               0.0   \n",
      "        2018-07-02                  4600.0               0.0   \n",
      "        2018-07-03                  4600.0               0.0   \n",
      "\n",
      "                    Quantity_sell_out  \n",
      "SKU     Date                           \n",
      "A003505 2018-06-29                0.0  \n",
      "        2018-06-30                0.0  \n",
      "        2018-07-01              400.0  \n",
      "        2018-07-02                0.0  \n",
      "        2018-07-03                0.0   \n",
      "---\n",
      "\n",
      "                                 Quantity_opening_stock  Quantity_sell_in  \\\n",
      "Retailer     SKU     Date                                                   \n",
      "HU0097/00001 A002189 2018-06-29                   240.0               0.0   \n",
      "                     2018-06-30                   240.0               0.0   \n",
      "                     2018-07-01                   240.0               0.0   \n",
      "                     2018-07-02                   240.0               0.0   \n",
      "                     2018-07-03                   240.0               0.0   \n",
      "\n",
      "                                 Quantity_sell_out  \n",
      "Retailer     SKU     Date                           \n",
      "HU0097/00001 A002189 2018-06-29                0.0  \n",
      "                     2018-06-30                0.0  \n",
      "                     2018-07-01                0.0  \n",
      "                     2018-07-02                0.0  \n",
      "                     2018-07-03                0.0  \n"
     ]
    }
   ],
   "source": [
    "# Aggregate sell_out for retailer across dates\n",
    "explore_agg = explore.groupby(level=['Retailer'])[['Quantity_sell_out']].agg(['sum']).loc[:, 'Quantity_sell_out']\n",
    "\n",
    "# Sort\n",
    "explore_agg.sort_values(by=['sum'], ascending=False, inplace=True)\n",
    "\n",
    "# Top 10 retailers\n",
    "top_retailers_index = explore_agg.index[:10]\n",
    "print(top_retailers_index, \"\\n---\\n\")\n",
    "\n",
    "# Select the top retailer\n",
    "print(explore.loc[top_retailers_index[0]].head(), \"\\n---\\n\")\n",
    "\n",
    "# Select the top 10 retailers\n",
    "print(explore.loc[list(top_retailers_index)].head())"
   ]
  },
  {
   "cell_type": "markdown",
   "metadata": {},
   "source": [
    "##### SKU acorss dates"
   ]
  },
  {
   "cell_type": "code",
   "execution_count": 47,
   "metadata": {
    "ExecuteTime": {
     "end_time": "2018-08-29T11:28:14.239077Z",
     "start_time": "2018-08-29T11:28:13.551742Z"
    }
   },
   "outputs": [
    {
     "name": "stdout",
     "output_type": "stream",
     "text": [
      "Index(['A005381', 'A004868', 'A004318', 'A005477', 'A005453', 'A006310',\n",
      "       'A005470', 'A005462', 'A005472', 'A005471'],\n",
      "      dtype='object', name='SKU') \n",
      "---\n",
      "\n",
      "                                 Quantity_opening_stock  Quantity_sell_in  \\\n",
      "Retailer     SKU     Date                                                   \n",
      "HU0001/00009 A005381 2018-06-29                  1800.0               0.0   \n",
      "                     2018-06-30                  1750.0               0.0   \n",
      "                     2018-07-01                  1650.0               0.0   \n",
      "                     2018-07-02                  1550.0               0.0   \n",
      "                     2018-07-03                  1400.0               0.0   \n",
      "\n",
      "                                 Quantity_sell_out  \n",
      "Retailer     SKU     Date                           \n",
      "HU0001/00009 A005381 2018-06-29               50.0  \n",
      "                     2018-06-30              100.0  \n",
      "                     2018-07-01              100.0  \n",
      "                     2018-07-02              150.0  \n",
      "                     2018-07-03               50.0   \n",
      "---\n",
      "\n",
      "                                 Quantity_opening_stock  Quantity_sell_in  \\\n",
      "Retailer     SKU     Date                                                   \n",
      "HU0001/00009 A004318 2018-06-29                  2200.0               0.0   \n",
      "                     2018-06-30                  2200.0               0.0   \n",
      "                     2018-07-01                  2200.0               0.0   \n",
      "                     2018-07-02                  2200.0               0.0   \n",
      "                     2018-07-03                  2200.0               0.0   \n",
      "\n",
      "                                 Quantity_sell_out  \n",
      "Retailer     SKU     Date                           \n",
      "HU0001/00009 A004318 2018-06-29                0.0  \n",
      "                     2018-06-30                0.0  \n",
      "                     2018-07-01                0.0  \n",
      "                     2018-07-02                0.0  \n",
      "                     2018-07-03              400.0  \n"
     ]
    }
   ],
   "source": [
    "# Aggregate sell_out for SKU across dates\n",
    "explore_agg = explore.groupby(level=['SKU'])[['Quantity_sell_out']].agg(['sum']).loc[:, 'Quantity_sell_out']\n",
    "\n",
    "# Sort\n",
    "explore_agg.sort_values(by=['sum'], ascending=False, inplace=True)\n",
    "\n",
    "# Top 10 SKUs\n",
    "top_skus_index = explore_agg.index[:10]\n",
    "print(top_skus_index, \"\\n---\\n\")\n",
    "\n",
    "# Select the top SKU\n",
    "print(explore.loc[(slice(None), top_skus_index[0]), :].head(), \"\\n---\\n\")\n",
    "\n",
    "# Select top 10 SKUs\n",
    "print(explore.loc[(slice(None), list(top_skus_index)), :].head())"
   ]
  },
  {
   "cell_type": "code",
   "execution_count": 48,
   "metadata": {
    "ExecuteTime": {
     "end_time": "2018-08-29T11:28:14.442155Z",
     "start_time": "2018-08-29T11:28:14.239077Z"
    }
   },
   "outputs": [
    {
     "name": "stdout",
     "output_type": "stream",
     "text": [
      "                                 Quantity_opening_stock  Quantity_sell_in  \\\n",
      "Retailer     SKU     Date                                                   \n",
      "HU0097/00001 A004318 2018-06-29                  9800.0               0.0   \n",
      "                     2018-06-30                  9800.0               0.0   \n",
      "                     2018-07-01                  9800.0               0.0   \n",
      "                     2018-07-02                  9800.0               0.0   \n",
      "                     2018-07-03                  9800.0               0.0   \n",
      "\n",
      "                                 Quantity_sell_out  \n",
      "Retailer     SKU     Date                           \n",
      "HU0097/00001 A004318 2018-06-29                0.0  \n",
      "                     2018-06-30                0.0  \n",
      "                     2018-07-01                0.0  \n",
      "                     2018-07-02                0.0  \n",
      "                     2018-07-03                0.0  \n"
     ]
    }
   ],
   "source": [
    "# Select top 10 Retailers and top 10 SKUs\n",
    "print(explore.loc[(list(top_retailers_index), list(top_skus_index)), :].head())"
   ]
  },
  {
   "cell_type": "markdown",
   "metadata": {},
   "source": [
    "##### Month-wise"
   ]
  },
  {
   "cell_type": "code",
   "execution_count": 49,
   "metadata": {
    "ExecuteTime": {
     "end_time": "2018-08-29T11:28:15.254462Z",
     "start_time": "2018-08-29T11:28:14.442155Z"
    }
   },
   "outputs": [
    {
     "name": "stdout",
     "output_type": "stream",
     "text": [
      "DatetimeIndex(['2018-06-29', '2018-06-30', '2018-07-01', '2018-07-02',\n",
      "               '2018-07-03', '2018-07-04', '2018-07-05', '2018-07-06',\n",
      "               '2018-07-07', '2018-07-08',\n",
      "               ...\n",
      "               '2018-06-29', '2018-06-30', '2018-07-01', '2018-07-02',\n",
      "               '2018-07-03', '2018-07-04', '2018-07-05', '2018-07-06',\n",
      "               '2018-07-07', '2018-07-08'],\n",
      "              dtype='datetime64[ns]', name='Date', length=2808598, freq=None) \n",
      "---\n",
      "\n",
      "                                 Quantity_opening_stock  Quantity_sell_in  \\\n",
      "Retailer     SKU     Date                                                   \n",
      "HU0001/00009 A003505 2018-07-01                  1600.0               0.0   \n",
      "                     2018-07-02                  1600.0               0.0   \n",
      "                     2018-07-03                  1600.0               0.0   \n",
      "                     2018-07-04                  1600.0               0.0   \n",
      "                     2018-07-05                  1600.0               0.0   \n",
      "\n",
      "                                 Quantity_sell_out  \n",
      "Retailer     SKU     Date                           \n",
      "HU0001/00009 A003505 2018-07-01                0.0  \n",
      "                     2018-07-02                0.0  \n",
      "                     2018-07-03                0.0  \n",
      "                     2018-07-04                0.0  \n",
      "                     2018-07-05                0.0   \n",
      "---\n",
      "\n"
     ]
    },
    {
     "data": {
      "text/html": [
       "<div>\n",
       "<style scoped>\n",
       "    .dataframe tbody tr th:only-of-type {\n",
       "        vertical-align: middle;\n",
       "    }\n",
       "\n",
       "    .dataframe tbody tr th {\n",
       "        vertical-align: top;\n",
       "    }\n",
       "\n",
       "    .dataframe thead th {\n",
       "        text-align: right;\n",
       "    }\n",
       "</style>\n",
       "<table border=\"1\" class=\"dataframe\">\n",
       "  <thead>\n",
       "    <tr style=\"text-align: right;\">\n",
       "      <th></th>\n",
       "      <th></th>\n",
       "      <th>Quantity_opening_stock</th>\n",
       "      <th>Quantity_sell_in</th>\n",
       "      <th>Quantity_sell_out</th>\n",
       "    </tr>\n",
       "    <tr>\n",
       "      <th>SKU</th>\n",
       "      <th>Date</th>\n",
       "      <th></th>\n",
       "      <th></th>\n",
       "      <th></th>\n",
       "    </tr>\n",
       "  </thead>\n",
       "  <tbody>\n",
       "    <tr>\n",
       "      <th rowspan=\"5\" valign=\"top\">A003505</th>\n",
       "      <th>2018-07-01</th>\n",
       "      <td>1600.0</td>\n",
       "      <td>0.0</td>\n",
       "      <td>0.0</td>\n",
       "    </tr>\n",
       "    <tr>\n",
       "      <th>2018-07-02</th>\n",
       "      <td>1600.0</td>\n",
       "      <td>0.0</td>\n",
       "      <td>0.0</td>\n",
       "    </tr>\n",
       "    <tr>\n",
       "      <th>2018-07-03</th>\n",
       "      <td>1600.0</td>\n",
       "      <td>0.0</td>\n",
       "      <td>0.0</td>\n",
       "    </tr>\n",
       "    <tr>\n",
       "      <th>2018-07-04</th>\n",
       "      <td>1600.0</td>\n",
       "      <td>0.0</td>\n",
       "      <td>0.0</td>\n",
       "    </tr>\n",
       "    <tr>\n",
       "      <th>2018-07-05</th>\n",
       "      <td>1600.0</td>\n",
       "      <td>0.0</td>\n",
       "      <td>0.0</td>\n",
       "    </tr>\n",
       "  </tbody>\n",
       "</table>\n",
       "</div>"
      ],
      "text/plain": [
       "                    Quantity_opening_stock  Quantity_sell_in  \\\n",
       "SKU     Date                                                   \n",
       "A003505 2018-07-01                  1600.0               0.0   \n",
       "        2018-07-02                  1600.0               0.0   \n",
       "        2018-07-03                  1600.0               0.0   \n",
       "        2018-07-04                  1600.0               0.0   \n",
       "        2018-07-05                  1600.0               0.0   \n",
       "\n",
       "                    Quantity_sell_out  \n",
       "SKU     Date                           \n",
       "A003505 2018-07-01                0.0  \n",
       "        2018-07-02                0.0  \n",
       "        2018-07-03                0.0  \n",
       "        2018-07-04                0.0  \n",
       "        2018-07-05                0.0  "
      ]
     },
     "execution_count": 49,
     "metadata": {},
     "output_type": "execute_result"
    }
   ],
   "source": [
    "# Dates for all the rows\n",
    "print(explore.index.get_level_values('Date'), \"\\n---\\n\")\n",
    "\n",
    "# Select a particular month\n",
    "print(explore.iloc[explore.index.get_level_values('Date').month == 7].head(), \"\\n---\\n\")\n",
    "\n",
    "# Select a particular retailer on a select month\n",
    "explore.iloc[explore.index.get_level_values('Date').month == 7].loc[('HU0001/00009')].head()"
   ]
  },
  {
   "cell_type": "code",
   "execution_count": 50,
   "metadata": {
    "ExecuteTime": {
     "end_time": "2018-08-29T11:28:16.207374Z",
     "start_time": "2018-08-29T11:28:15.254462Z"
    }
   },
   "outputs": [
    {
     "name": "stdout",
     "output_type": "stream",
     "text": [
      "Index(['A005381', 'A004868', 'A004318', 'A005477', 'A005453', 'A006310',\n",
      "       'A005462', 'A005470', 'A005472', 'A005471'],\n",
      "      dtype='object', name='SKU') \n",
      "---\n",
      "\n",
      "                                 Quantity_opening_stock  Quantity_sell_in  \\\n",
      "Retailer     SKU     Date                                                   \n",
      "HU0001/00009 A005381 2018-06-29                  1800.0               0.0   \n",
      "                     2018-06-30                  1750.0               0.0   \n",
      "                     2018-07-01                  1650.0               0.0   \n",
      "                     2018-07-02                  1550.0               0.0   \n",
      "                     2018-07-03                  1400.0               0.0   \n",
      "\n",
      "                                 Quantity_sell_out  \n",
      "Retailer     SKU     Date                           \n",
      "HU0001/00009 A005381 2018-06-29               50.0  \n",
      "                     2018-06-30              100.0  \n",
      "                     2018-07-01              100.0  \n",
      "                     2018-07-02              150.0  \n",
      "                     2018-07-03               50.0   \n",
      "---\n",
      "\n",
      "                                 Quantity_opening_stock  Quantity_sell_in  \\\n",
      "Retailer     SKU     Date                                                   \n",
      "HU0001/00009 A004318 2018-06-29                  2200.0               0.0   \n",
      "                     2018-06-30                  2200.0               0.0   \n",
      "                     2018-07-01                  2200.0               0.0   \n",
      "                     2018-07-02                  2200.0               0.0   \n",
      "                     2018-07-03                  2200.0               0.0   \n",
      "\n",
      "                                 Quantity_sell_out  \n",
      "Retailer     SKU     Date                           \n",
      "HU0001/00009 A004318 2018-06-29                0.0  \n",
      "                     2018-06-30                0.0  \n",
      "                     2018-07-01                0.0  \n",
      "                     2018-07-02                0.0  \n",
      "                     2018-07-03              400.0  \n"
     ]
    }
   ],
   "source": [
    "# Aggregate sell_out for SKU in a particular month\n",
    "explore_monthly = explore.iloc[explore.index.get_level_values('Date').month == 7]\n",
    "explore_agg = explore_monthly.groupby(level=['SKU'])[['Quantity_sell_out']].agg(['sum']).loc[:, 'Quantity_sell_out']\n",
    "\n",
    "# Sort\n",
    "explore_agg.sort_values(by=['sum'], ascending=False, inplace=True)\n",
    "\n",
    "# Top 10 SKUs in a particular month\n",
    "top_skus_index = explore_agg.index[:10]\n",
    "print(top_skus_index, \"\\n---\\n\")\n",
    "\n",
    "# Select the top SKU in a particular month, across the entire time\n",
    "print(explore.loc[(slice(None), top_skus_index[0]), :].head(), \"\\n---\\n\")\n",
    "\n",
    "# Select top 10 SKUs in a particular month, across the entire time\n",
    "print(explore.loc[(slice(None), list(top_skus_index)), :].head())"
   ]
  },
  {
   "cell_type": "markdown",
   "metadata": {},
   "source": [
    "### Delete temporary dataframes"
   ]
  },
  {
   "cell_type": "code",
   "execution_count": 51,
   "metadata": {
    "ExecuteTime": {
     "end_time": "2018-08-29T11:28:16.222985Z",
     "start_time": "2018-08-29T11:28:16.207374Z"
    }
   },
   "outputs": [],
   "source": [
    "del(explore)\n",
    "del(explore_agg)\n",
    "del(explore_monthly)"
   ]
  }
 ],
 "metadata": {
  "kernelspec": {
   "display_name": "Python 3",
   "language": "python",
   "name": "python3"
  },
  "language_info": {
   "codemirror_mode": {
    "name": "ipython",
    "version": 3
   },
   "file_extension": ".py",
   "mimetype": "text/x-python",
   "name": "python",
   "nbconvert_exporter": "python",
   "pygments_lexer": "ipython3",
   "version": "3.6.4"
  },
  "toc": {
   "base_numbering": 1,
   "nav_menu": {},
   "number_sections": true,
   "sideBar": true,
   "skip_h1_title": false,
   "title_cell": "Table of Contents",
   "title_sidebar": "Contents",
   "toc_cell": false,
   "toc_position": {
    "height": "calc(100% - 180px)",
    "left": "10px",
    "top": "150px",
    "width": "253px"
   },
   "toc_section_display": true,
   "toc_window_display": false
  },
  "varInspector": {
   "cols": {
    "lenName": 16,
    "lenType": 16,
    "lenVar": 40
   },
   "kernels_config": {
    "python": {
     "delete_cmd_postfix": "",
     "delete_cmd_prefix": "del ",
     "library": "var_list.py",
     "varRefreshCmd": "print(var_dic_list())"
    },
    "r": {
     "delete_cmd_postfix": ") ",
     "delete_cmd_prefix": "rm(",
     "library": "var_list.r",
     "varRefreshCmd": "cat(var_dic_list()) "
    }
   },
   "types_to_exclude": [
    "module",
    "function",
    "builtin_function_or_method",
    "instance",
    "_Feature"
   ],
   "window_display": false
  }
 },
 "nbformat": 4,
 "nbformat_minor": 2
}
